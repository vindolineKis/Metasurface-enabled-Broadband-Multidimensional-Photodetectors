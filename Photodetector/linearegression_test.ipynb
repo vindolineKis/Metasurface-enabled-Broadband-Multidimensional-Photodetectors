{
 "cells": [
  {
   "cell_type": "code",
   "execution_count": 2,
   "metadata": {},
   "outputs": [
    {
     "name": "stderr",
     "output_type": "stream",
     "text": [
      "2024-03-16 20:45:54.532568: E external/local_xla/xla/stream_executor/cuda/cuda_dnn.cc:9261] Unable to register cuDNN factory: Attempting to register factory for plugin cuDNN when one has already been registered\n",
      "2024-03-16 20:45:54.532619: E external/local_xla/xla/stream_executor/cuda/cuda_fft.cc:607] Unable to register cuFFT factory: Attempting to register factory for plugin cuFFT when one has already been registered\n",
      "2024-03-16 20:45:54.534189: E external/local_xla/xla/stream_executor/cuda/cuda_blas.cc:1515] Unable to register cuBLAS factory: Attempting to register factory for plugin cuBLAS when one has already been registered\n",
      "2024-03-16 20:45:54.542958: I tensorflow/core/platform/cpu_feature_guard.cc:182] This TensorFlow binary is optimized to use available CPU instructions in performance-critical operations.\n",
      "To enable the following instructions: AVX2 FMA, in other operations, rebuild TensorFlow with the appropriate compiler flags.\n",
      "2024-03-16 20:45:55.356199: W tensorflow/compiler/tf2tensorrt/utils/py_utils.cc:38] TF-TRT Warning: Could not find TensorRT\n"
     ]
    }
   ],
   "source": [
    "import numpy as np\n",
    "import pandas as pd\n",
    "from  sklearn.model_selection import train_test_split\n",
    "from sklearn.preprocessing import OneHotEncoder\n",
    "from keras.models import Model\n",
    "from keras.layers import Input, Dense\n",
    "from keras.optimizers import Adam\n",
    "# import BatchNormalization\n",
    "from keras.layers import BatchNormalization\n",
    "from keras.layers import Dropout\n"
   ]
  },
  {
   "cell_type": "code",
   "execution_count": 3,
   "metadata": {},
   "outputs": [],
   "source": [
    "# Load data\n",
    "file_path = 'dataset.xlsx'\n",
    "data = pd.read_excel(file_path)\n",
    "data = data.astype({'x1': 'float', 'x2': 'float', 'x3': 'float', 'y1': 'category', 'y2': 'float'})\n"
   ]
  },
  {
   "cell_type": "code",
   "execution_count": 4,
   "metadata": {},
   "outputs": [
    {
     "name": "stdout",
     "output_type": "stream",
     "text": [
      "[-0.0700291  -0.1018302   0.01919956] 2 5.05797\n"
     ]
    }
   ],
   "source": [
    "# split\n",
    "X = data[['x1', 'x2', 'x3']].values\n",
    "Y_class = data['y1'].values\n",
    "Y_reg = data['y2'].values\n",
    "# print one line of data\n",
    "i= 180\n",
    "print(X[i], Y_class[i], Y_reg[i])"
   ]
  },
  {
   "cell_type": "code",
   "execution_count": 5,
   "metadata": {},
   "outputs": [],
   "source": [
    "# onehot encode the class labels\n",
    "encoder = OneHotEncoder(sparse_output=False)\n",
    "Y_class = encoder.fit_transform(Y_class.reshape(-1, 1))\n",
    "# Y_class = Y_class.toarray()\n"
   ]
  },
  {
   "cell_type": "code",
   "execution_count": 6,
   "metadata": {},
   "outputs": [
    {
     "name": "stdout",
     "output_type": "stream",
     "text": [
      "[0. 0. 1. 0. 0. 0. 0. 0.]\n",
      "[0. 0. 0. 0. 1. 0. 0. 0.]\n",
      "[1. 0. 0. 0. 0. 0. 0. 0.]\n",
      "[1. 0. 0. 0. 0. 0. 0. 0.]\n"
     ]
    }
   ],
   "source": [
    "print(Y_class[180])\n",
    "print(Y_class[280])\n",
    "print(Y_class[0])\n",
    "print(Y_class[1])"
   ]
  },
  {
   "cell_type": "code",
   "execution_count": 7,
   "metadata": {},
   "outputs": [],
   "source": [
    "X_train, X_test, Y_class_train, Y_class_test, Y_reg_train, Y_reg_test = train_test_split(X, Y_class, Y_reg, test_size=0.2, random_state=42)"
   ]
  },
  {
   "cell_type": "code",
   "execution_count": 8,
   "metadata": {},
   "outputs": [],
   "source": [
    "# 线性回归模型\n",
    "from sklearn.datasets import make_classification\n",
    "from sklearn.model_selection import train_test_split\n",
    "from sklearn.linear_model import LinearRegression\n",
    "from sklearn.metrics import accuracy_score\n",
    "import numpy as np\n"
   ]
  },
  {
   "cell_type": "code",
   "execution_count": 9,
   "metadata": {},
   "outputs": [
    {
     "name": "stdout",
     "output_type": "stream",
     "text": [
      "(448, 3) (112, 3) (448, 8) (112, 8) (448,) (112,)\n"
     ]
    }
   ],
   "source": [
    "print(X_train.shape, X_test.shape, Y_class_train.shape, Y_class_test.shape, Y_reg_train.shape, Y_reg_test.shape)"
   ]
  },
  {
   "cell_type": "code",
   "execution_count": 11,
   "metadata": {},
   "outputs": [
    {
     "data": {
      "text/html": [
       "<style>#sk-container-id-1 {\n",
       "  /* Definition of color scheme common for light and dark mode */\n",
       "  --sklearn-color-text: black;\n",
       "  --sklearn-color-line: gray;\n",
       "  /* Definition of color scheme for unfitted estimators */\n",
       "  --sklearn-color-unfitted-level-0: #fff5e6;\n",
       "  --sklearn-color-unfitted-level-1: #f6e4d2;\n",
       "  --sklearn-color-unfitted-level-2: #ffe0b3;\n",
       "  --sklearn-color-unfitted-level-3: chocolate;\n",
       "  /* Definition of color scheme for fitted estimators */\n",
       "  --sklearn-color-fitted-level-0: #f0f8ff;\n",
       "  --sklearn-color-fitted-level-1: #d4ebff;\n",
       "  --sklearn-color-fitted-level-2: #b3dbfd;\n",
       "  --sklearn-color-fitted-level-3: cornflowerblue;\n",
       "\n",
       "  /* Specific color for light theme */\n",
       "  --sklearn-color-text-on-default-background: var(--sg-text-color, var(--theme-code-foreground, var(--jp-content-font-color1, black)));\n",
       "  --sklearn-color-background: var(--sg-background-color, var(--theme-background, var(--jp-layout-color0, white)));\n",
       "  --sklearn-color-border-box: var(--sg-text-color, var(--theme-code-foreground, var(--jp-content-font-color1, black)));\n",
       "  --sklearn-color-icon: #696969;\n",
       "\n",
       "  @media (prefers-color-scheme: dark) {\n",
       "    /* Redefinition of color scheme for dark theme */\n",
       "    --sklearn-color-text-on-default-background: var(--sg-text-color, var(--theme-code-foreground, var(--jp-content-font-color1, white)));\n",
       "    --sklearn-color-background: var(--sg-background-color, var(--theme-background, var(--jp-layout-color0, #111)));\n",
       "    --sklearn-color-border-box: var(--sg-text-color, var(--theme-code-foreground, var(--jp-content-font-color1, white)));\n",
       "    --sklearn-color-icon: #878787;\n",
       "  }\n",
       "}\n",
       "\n",
       "#sk-container-id-1 {\n",
       "  color: var(--sklearn-color-text);\n",
       "}\n",
       "\n",
       "#sk-container-id-1 pre {\n",
       "  padding: 0;\n",
       "}\n",
       "\n",
       "#sk-container-id-1 input.sk-hidden--visually {\n",
       "  border: 0;\n",
       "  clip: rect(1px 1px 1px 1px);\n",
       "  clip: rect(1px, 1px, 1px, 1px);\n",
       "  height: 1px;\n",
       "  margin: -1px;\n",
       "  overflow: hidden;\n",
       "  padding: 0;\n",
       "  position: absolute;\n",
       "  width: 1px;\n",
       "}\n",
       "\n",
       "#sk-container-id-1 div.sk-dashed-wrapped {\n",
       "  border: 1px dashed var(--sklearn-color-line);\n",
       "  margin: 0 0.4em 0.5em 0.4em;\n",
       "  box-sizing: border-box;\n",
       "  padding-bottom: 0.4em;\n",
       "  background-color: var(--sklearn-color-background);\n",
       "}\n",
       "\n",
       "#sk-container-id-1 div.sk-container {\n",
       "  /* jupyter's `normalize.less` sets `[hidden] { display: none; }`\n",
       "     but bootstrap.min.css set `[hidden] { display: none !important; }`\n",
       "     so we also need the `!important` here to be able to override the\n",
       "     default hidden behavior on the sphinx rendered scikit-learn.org.\n",
       "     See: https://github.com/scikit-learn/scikit-learn/issues/21755 */\n",
       "  display: inline-block !important;\n",
       "  position: relative;\n",
       "}\n",
       "\n",
       "#sk-container-id-1 div.sk-text-repr-fallback {\n",
       "  display: none;\n",
       "}\n",
       "\n",
       "div.sk-parallel-item,\n",
       "div.sk-serial,\n",
       "div.sk-item {\n",
       "  /* draw centered vertical line to link estimators */\n",
       "  background-image: linear-gradient(var(--sklearn-color-text-on-default-background), var(--sklearn-color-text-on-default-background));\n",
       "  background-size: 2px 100%;\n",
       "  background-repeat: no-repeat;\n",
       "  background-position: center center;\n",
       "}\n",
       "\n",
       "/* Parallel-specific style estimator block */\n",
       "\n",
       "#sk-container-id-1 div.sk-parallel-item::after {\n",
       "  content: \"\";\n",
       "  width: 100%;\n",
       "  border-bottom: 2px solid var(--sklearn-color-text-on-default-background);\n",
       "  flex-grow: 1;\n",
       "}\n",
       "\n",
       "#sk-container-id-1 div.sk-parallel {\n",
       "  display: flex;\n",
       "  align-items: stretch;\n",
       "  justify-content: center;\n",
       "  background-color: var(--sklearn-color-background);\n",
       "  position: relative;\n",
       "}\n",
       "\n",
       "#sk-container-id-1 div.sk-parallel-item {\n",
       "  display: flex;\n",
       "  flex-direction: column;\n",
       "}\n",
       "\n",
       "#sk-container-id-1 div.sk-parallel-item:first-child::after {\n",
       "  align-self: flex-end;\n",
       "  width: 50%;\n",
       "}\n",
       "\n",
       "#sk-container-id-1 div.sk-parallel-item:last-child::after {\n",
       "  align-self: flex-start;\n",
       "  width: 50%;\n",
       "}\n",
       "\n",
       "#sk-container-id-1 div.sk-parallel-item:only-child::after {\n",
       "  width: 0;\n",
       "}\n",
       "\n",
       "/* Serial-specific style estimator block */\n",
       "\n",
       "#sk-container-id-1 div.sk-serial {\n",
       "  display: flex;\n",
       "  flex-direction: column;\n",
       "  align-items: center;\n",
       "  background-color: var(--sklearn-color-background);\n",
       "  padding-right: 1em;\n",
       "  padding-left: 1em;\n",
       "}\n",
       "\n",
       "\n",
       "/* Toggleable style: style used for estimator/Pipeline/ColumnTransformer box that is\n",
       "clickable and can be expanded/collapsed.\n",
       "- Pipeline and ColumnTransformer use this feature and define the default style\n",
       "- Estimators will overwrite some part of the style using the `sk-estimator` class\n",
       "*/\n",
       "\n",
       "/* Pipeline and ColumnTransformer style (default) */\n",
       "\n",
       "#sk-container-id-1 div.sk-toggleable {\n",
       "  /* Default theme specific background. It is overwritten whether we have a\n",
       "  specific estimator or a Pipeline/ColumnTransformer */\n",
       "  background-color: var(--sklearn-color-background);\n",
       "}\n",
       "\n",
       "/* Toggleable label */\n",
       "#sk-container-id-1 label.sk-toggleable__label {\n",
       "  cursor: pointer;\n",
       "  display: block;\n",
       "  width: 100%;\n",
       "  margin-bottom: 0;\n",
       "  padding: 0.5em;\n",
       "  box-sizing: border-box;\n",
       "  text-align: center;\n",
       "}\n",
       "\n",
       "#sk-container-id-1 label.sk-toggleable__label-arrow:before {\n",
       "  /* Arrow on the left of the label */\n",
       "  content: \"▸\";\n",
       "  float: left;\n",
       "  margin-right: 0.25em;\n",
       "  color: var(--sklearn-color-icon);\n",
       "}\n",
       "\n",
       "#sk-container-id-1 label.sk-toggleable__label-arrow:hover:before {\n",
       "  color: var(--sklearn-color-text);\n",
       "}\n",
       "\n",
       "/* Toggleable content - dropdown */\n",
       "\n",
       "#sk-container-id-1 div.sk-toggleable__content {\n",
       "  max-height: 0;\n",
       "  max-width: 0;\n",
       "  overflow: hidden;\n",
       "  text-align: left;\n",
       "  /* unfitted */\n",
       "  background-color: var(--sklearn-color-unfitted-level-0);\n",
       "}\n",
       "\n",
       "#sk-container-id-1 div.sk-toggleable__content.fitted {\n",
       "  /* fitted */\n",
       "  background-color: var(--sklearn-color-fitted-level-0);\n",
       "}\n",
       "\n",
       "#sk-container-id-1 div.sk-toggleable__content pre {\n",
       "  margin: 0.2em;\n",
       "  border-radius: 0.25em;\n",
       "  color: var(--sklearn-color-text);\n",
       "  /* unfitted */\n",
       "  background-color: var(--sklearn-color-unfitted-level-0);\n",
       "}\n",
       "\n",
       "#sk-container-id-1 div.sk-toggleable__content.fitted pre {\n",
       "  /* unfitted */\n",
       "  background-color: var(--sklearn-color-fitted-level-0);\n",
       "}\n",
       "\n",
       "#sk-container-id-1 input.sk-toggleable__control:checked~div.sk-toggleable__content {\n",
       "  /* Expand drop-down */\n",
       "  max-height: 200px;\n",
       "  max-width: 100%;\n",
       "  overflow: auto;\n",
       "}\n",
       "\n",
       "#sk-container-id-1 input.sk-toggleable__control:checked~label.sk-toggleable__label-arrow:before {\n",
       "  content: \"▾\";\n",
       "}\n",
       "\n",
       "/* Pipeline/ColumnTransformer-specific style */\n",
       "\n",
       "#sk-container-id-1 div.sk-label input.sk-toggleable__control:checked~label.sk-toggleable__label {\n",
       "  color: var(--sklearn-color-text);\n",
       "  background-color: var(--sklearn-color-unfitted-level-2);\n",
       "}\n",
       "\n",
       "#sk-container-id-1 div.sk-label.fitted input.sk-toggleable__control:checked~label.sk-toggleable__label {\n",
       "  background-color: var(--sklearn-color-fitted-level-2);\n",
       "}\n",
       "\n",
       "/* Estimator-specific style */\n",
       "\n",
       "/* Colorize estimator box */\n",
       "#sk-container-id-1 div.sk-estimator input.sk-toggleable__control:checked~label.sk-toggleable__label {\n",
       "  /* unfitted */\n",
       "  background-color: var(--sklearn-color-unfitted-level-2);\n",
       "}\n",
       "\n",
       "#sk-container-id-1 div.sk-estimator.fitted input.sk-toggleable__control:checked~label.sk-toggleable__label {\n",
       "  /* fitted */\n",
       "  background-color: var(--sklearn-color-fitted-level-2);\n",
       "}\n",
       "\n",
       "#sk-container-id-1 div.sk-label label.sk-toggleable__label,\n",
       "#sk-container-id-1 div.sk-label label {\n",
       "  /* The background is the default theme color */\n",
       "  color: var(--sklearn-color-text-on-default-background);\n",
       "}\n",
       "\n",
       "/* On hover, darken the color of the background */\n",
       "#sk-container-id-1 div.sk-label:hover label.sk-toggleable__label {\n",
       "  color: var(--sklearn-color-text);\n",
       "  background-color: var(--sklearn-color-unfitted-level-2);\n",
       "}\n",
       "\n",
       "/* Label box, darken color on hover, fitted */\n",
       "#sk-container-id-1 div.sk-label.fitted:hover label.sk-toggleable__label.fitted {\n",
       "  color: var(--sklearn-color-text);\n",
       "  background-color: var(--sklearn-color-fitted-level-2);\n",
       "}\n",
       "\n",
       "/* Estimator label */\n",
       "\n",
       "#sk-container-id-1 div.sk-label label {\n",
       "  font-family: monospace;\n",
       "  font-weight: bold;\n",
       "  display: inline-block;\n",
       "  line-height: 1.2em;\n",
       "}\n",
       "\n",
       "#sk-container-id-1 div.sk-label-container {\n",
       "  text-align: center;\n",
       "}\n",
       "\n",
       "/* Estimator-specific */\n",
       "#sk-container-id-1 div.sk-estimator {\n",
       "  font-family: monospace;\n",
       "  border: 1px dotted var(--sklearn-color-border-box);\n",
       "  border-radius: 0.25em;\n",
       "  box-sizing: border-box;\n",
       "  margin-bottom: 0.5em;\n",
       "  /* unfitted */\n",
       "  background-color: var(--sklearn-color-unfitted-level-0);\n",
       "}\n",
       "\n",
       "#sk-container-id-1 div.sk-estimator.fitted {\n",
       "  /* fitted */\n",
       "  background-color: var(--sklearn-color-fitted-level-0);\n",
       "}\n",
       "\n",
       "/* on hover */\n",
       "#sk-container-id-1 div.sk-estimator:hover {\n",
       "  /* unfitted */\n",
       "  background-color: var(--sklearn-color-unfitted-level-2);\n",
       "}\n",
       "\n",
       "#sk-container-id-1 div.sk-estimator.fitted:hover {\n",
       "  /* fitted */\n",
       "  background-color: var(--sklearn-color-fitted-level-2);\n",
       "}\n",
       "\n",
       "/* Specification for estimator info (e.g. \"i\" and \"?\") */\n",
       "\n",
       "/* Common style for \"i\" and \"?\" */\n",
       "\n",
       ".sk-estimator-doc-link,\n",
       "a:link.sk-estimator-doc-link,\n",
       "a:visited.sk-estimator-doc-link {\n",
       "  float: right;\n",
       "  font-size: smaller;\n",
       "  line-height: 1em;\n",
       "  font-family: monospace;\n",
       "  background-color: var(--sklearn-color-background);\n",
       "  border-radius: 1em;\n",
       "  height: 1em;\n",
       "  width: 1em;\n",
       "  text-decoration: none !important;\n",
       "  margin-left: 1ex;\n",
       "  /* unfitted */\n",
       "  border: var(--sklearn-color-unfitted-level-1) 1pt solid;\n",
       "  color: var(--sklearn-color-unfitted-level-1);\n",
       "}\n",
       "\n",
       ".sk-estimator-doc-link.fitted,\n",
       "a:link.sk-estimator-doc-link.fitted,\n",
       "a:visited.sk-estimator-doc-link.fitted {\n",
       "  /* fitted */\n",
       "  border: var(--sklearn-color-fitted-level-1) 1pt solid;\n",
       "  color: var(--sklearn-color-fitted-level-1);\n",
       "}\n",
       "\n",
       "/* On hover */\n",
       "div.sk-estimator:hover .sk-estimator-doc-link:hover,\n",
       ".sk-estimator-doc-link:hover,\n",
       "div.sk-label-container:hover .sk-estimator-doc-link:hover,\n",
       ".sk-estimator-doc-link:hover {\n",
       "  /* unfitted */\n",
       "  background-color: var(--sklearn-color-unfitted-level-3);\n",
       "  color: var(--sklearn-color-background);\n",
       "  text-decoration: none;\n",
       "}\n",
       "\n",
       "div.sk-estimator.fitted:hover .sk-estimator-doc-link.fitted:hover,\n",
       ".sk-estimator-doc-link.fitted:hover,\n",
       "div.sk-label-container:hover .sk-estimator-doc-link.fitted:hover,\n",
       ".sk-estimator-doc-link.fitted:hover {\n",
       "  /* fitted */\n",
       "  background-color: var(--sklearn-color-fitted-level-3);\n",
       "  color: var(--sklearn-color-background);\n",
       "  text-decoration: none;\n",
       "}\n",
       "\n",
       "/* Span, style for the box shown on hovering the info icon */\n",
       ".sk-estimator-doc-link span {\n",
       "  display: none;\n",
       "  z-index: 9999;\n",
       "  position: relative;\n",
       "  font-weight: normal;\n",
       "  right: .2ex;\n",
       "  padding: .5ex;\n",
       "  margin: .5ex;\n",
       "  width: min-content;\n",
       "  min-width: 20ex;\n",
       "  max-width: 50ex;\n",
       "  color: var(--sklearn-color-text);\n",
       "  box-shadow: 2pt 2pt 4pt #999;\n",
       "  /* unfitted */\n",
       "  background: var(--sklearn-color-unfitted-level-0);\n",
       "  border: .5pt solid var(--sklearn-color-unfitted-level-3);\n",
       "}\n",
       "\n",
       ".sk-estimator-doc-link.fitted span {\n",
       "  /* fitted */\n",
       "  background: var(--sklearn-color-fitted-level-0);\n",
       "  border: var(--sklearn-color-fitted-level-3);\n",
       "}\n",
       "\n",
       ".sk-estimator-doc-link:hover span {\n",
       "  display: block;\n",
       "}\n",
       "\n",
       "/* \"?\"-specific style due to the `<a>` HTML tag */\n",
       "\n",
       "#sk-container-id-1 a.estimator_doc_link {\n",
       "  float: right;\n",
       "  font-size: 1rem;\n",
       "  line-height: 1em;\n",
       "  font-family: monospace;\n",
       "  background-color: var(--sklearn-color-background);\n",
       "  border-radius: 1rem;\n",
       "  height: 1rem;\n",
       "  width: 1rem;\n",
       "  text-decoration: none;\n",
       "  /* unfitted */\n",
       "  color: var(--sklearn-color-unfitted-level-1);\n",
       "  border: var(--sklearn-color-unfitted-level-1) 1pt solid;\n",
       "}\n",
       "\n",
       "#sk-container-id-1 a.estimator_doc_link.fitted {\n",
       "  /* fitted */\n",
       "  border: var(--sklearn-color-fitted-level-1) 1pt solid;\n",
       "  color: var(--sklearn-color-fitted-level-1);\n",
       "}\n",
       "\n",
       "/* On hover */\n",
       "#sk-container-id-1 a.estimator_doc_link:hover {\n",
       "  /* unfitted */\n",
       "  background-color: var(--sklearn-color-unfitted-level-3);\n",
       "  color: var(--sklearn-color-background);\n",
       "  text-decoration: none;\n",
       "}\n",
       "\n",
       "#sk-container-id-1 a.estimator_doc_link.fitted:hover {\n",
       "  /* fitted */\n",
       "  background-color: var(--sklearn-color-fitted-level-3);\n",
       "}\n",
       "</style><div id=\"sk-container-id-1\" class=\"sk-top-container\"><div class=\"sk-text-repr-fallback\"><pre>LinearRegression()</pre><b>In a Jupyter environment, please rerun this cell to show the HTML representation or trust the notebook. <br />On GitHub, the HTML representation is unable to render, please try loading this page with nbviewer.org.</b></div><div class=\"sk-container\" hidden><div class=\"sk-item\"><div class=\"sk-estimator fitted sk-toggleable\"><input class=\"sk-toggleable__control sk-hidden--visually\" id=\"sk-estimator-id-1\" type=\"checkbox\" checked><label for=\"sk-estimator-id-1\" class=\"sk-toggleable__label fitted sk-toggleable__label-arrow fitted\">&nbsp;&nbsp;LinearRegression<a class=\"sk-estimator-doc-link fitted\" rel=\"noreferrer\" target=\"_blank\" href=\"https://scikit-learn.org/1.4/modules/generated/sklearn.linear_model.LinearRegression.html\">?<span>Documentation for LinearRegression</span></a><span class=\"sk-estimator-doc-link fitted\">i<span>Fitted</span></span></label><div class=\"sk-toggleable__content fitted\"><pre>LinearRegression()</pre></div> </div></div></div></div>"
      ],
      "text/plain": [
       "LinearRegression()"
      ]
     },
     "execution_count": 11,
     "metadata": {},
     "output_type": "execute_result"
    }
   ],
   "source": [
    "linear_regression1 = LinearRegression()\n",
    "linear_regression1.fit(X_train, Y_class_train)\n"
   ]
  },
  {
   "cell_type": "code",
   "execution_count": 12,
   "metadata": {},
   "outputs": [],
   "source": [
    "\n",
    "  "
   ]
  },
  {
   "cell_type": "code",
   "execution_count": 13,
   "metadata": {},
   "outputs": [
    {
     "ename": "ValueError",
     "evalue": "Classification metrics can't handle a mix of multilabel-indicator and continuous-multioutput targets",
     "output_type": "error",
     "traceback": [
      "\u001b[0;31m---------------------------------------------------------------------------\u001b[0m",
      "\u001b[0;31mValueError\u001b[0m                                Traceback (most recent call last)",
      "Cell \u001b[0;32mIn[13], line 2\u001b[0m\n\u001b[1;32m      1\u001b[0m \u001b[38;5;66;03m# 输出模型下的准确率\u001b[39;00m\n\u001b[0;32m----> 2\u001b[0m \u001b[38;5;28mprint\u001b[39m(\u001b[38;5;124m'\u001b[39m\u001b[38;5;124maccuracy:\u001b[39m\u001b[38;5;124m'\u001b[39m, \u001b[43maccuracy_score\u001b[49m\u001b[43m(\u001b[49m\u001b[43mY_class_test\u001b[49m\u001b[43m,\u001b[49m\u001b[43m \u001b[49m\u001b[43my_pred\u001b[49m\u001b[43m)\u001b[49m)\n",
      "File \u001b[0;32m~/anaconda3/envs/qiskit/lib/python3.11/site-packages/sklearn/utils/_param_validation.py:213\u001b[0m, in \u001b[0;36mvalidate_params.<locals>.decorator.<locals>.wrapper\u001b[0;34m(*args, **kwargs)\u001b[0m\n\u001b[1;32m    207\u001b[0m \u001b[38;5;28;01mtry\u001b[39;00m:\n\u001b[1;32m    208\u001b[0m     \u001b[38;5;28;01mwith\u001b[39;00m config_context(\n\u001b[1;32m    209\u001b[0m         skip_parameter_validation\u001b[38;5;241m=\u001b[39m(\n\u001b[1;32m    210\u001b[0m             prefer_skip_nested_validation \u001b[38;5;129;01mor\u001b[39;00m global_skip_validation\n\u001b[1;32m    211\u001b[0m         )\n\u001b[1;32m    212\u001b[0m     ):\n\u001b[0;32m--> 213\u001b[0m         \u001b[38;5;28;01mreturn\u001b[39;00m \u001b[43mfunc\u001b[49m\u001b[43m(\u001b[49m\u001b[38;5;241;43m*\u001b[39;49m\u001b[43margs\u001b[49m\u001b[43m,\u001b[49m\u001b[43m \u001b[49m\u001b[38;5;241;43m*\u001b[39;49m\u001b[38;5;241;43m*\u001b[39;49m\u001b[43mkwargs\u001b[49m\u001b[43m)\u001b[49m\n\u001b[1;32m    214\u001b[0m \u001b[38;5;28;01mexcept\u001b[39;00m InvalidParameterError \u001b[38;5;28;01mas\u001b[39;00m e:\n\u001b[1;32m    215\u001b[0m     \u001b[38;5;66;03m# When the function is just a wrapper around an estimator, we allow\u001b[39;00m\n\u001b[1;32m    216\u001b[0m     \u001b[38;5;66;03m# the function to delegate validation to the estimator, but we replace\u001b[39;00m\n\u001b[1;32m    217\u001b[0m     \u001b[38;5;66;03m# the name of the estimator by the name of the function in the error\u001b[39;00m\n\u001b[1;32m    218\u001b[0m     \u001b[38;5;66;03m# message to avoid confusion.\u001b[39;00m\n\u001b[1;32m    219\u001b[0m     msg \u001b[38;5;241m=\u001b[39m re\u001b[38;5;241m.\u001b[39msub(\n\u001b[1;32m    220\u001b[0m         \u001b[38;5;124mr\u001b[39m\u001b[38;5;124m\"\u001b[39m\u001b[38;5;124mparameter of \u001b[39m\u001b[38;5;124m\\\u001b[39m\u001b[38;5;124mw+ must be\u001b[39m\u001b[38;5;124m\"\u001b[39m,\n\u001b[1;32m    221\u001b[0m         \u001b[38;5;124mf\u001b[39m\u001b[38;5;124m\"\u001b[39m\u001b[38;5;124mparameter of \u001b[39m\u001b[38;5;132;01m{\u001b[39;00mfunc\u001b[38;5;241m.\u001b[39m\u001b[38;5;18m__qualname__\u001b[39m\u001b[38;5;132;01m}\u001b[39;00m\u001b[38;5;124m must be\u001b[39m\u001b[38;5;124m\"\u001b[39m,\n\u001b[1;32m    222\u001b[0m         \u001b[38;5;28mstr\u001b[39m(e),\n\u001b[1;32m    223\u001b[0m     )\n",
      "File \u001b[0;32m~/anaconda3/envs/qiskit/lib/python3.11/site-packages/sklearn/metrics/_classification.py:213\u001b[0m, in \u001b[0;36maccuracy_score\u001b[0;34m(y_true, y_pred, normalize, sample_weight)\u001b[0m\n\u001b[1;32m    147\u001b[0m \u001b[38;5;250m\u001b[39m\u001b[38;5;124;03m\"\"\"Accuracy classification score.\u001b[39;00m\n\u001b[1;32m    148\u001b[0m \n\u001b[1;32m    149\u001b[0m \u001b[38;5;124;03mIn multilabel classification, this function computes subset accuracy:\u001b[39;00m\n\u001b[0;32m   (...)\u001b[0m\n\u001b[1;32m    209\u001b[0m \u001b[38;5;124;03m0.5\u001b[39;00m\n\u001b[1;32m    210\u001b[0m \u001b[38;5;124;03m\"\"\"\u001b[39;00m\n\u001b[1;32m    212\u001b[0m \u001b[38;5;66;03m# Compute accuracy for each possible representation\u001b[39;00m\n\u001b[0;32m--> 213\u001b[0m y_type, y_true, y_pred \u001b[38;5;241m=\u001b[39m \u001b[43m_check_targets\u001b[49m\u001b[43m(\u001b[49m\u001b[43my_true\u001b[49m\u001b[43m,\u001b[49m\u001b[43m \u001b[49m\u001b[43my_pred\u001b[49m\u001b[43m)\u001b[49m\n\u001b[1;32m    214\u001b[0m check_consistent_length(y_true, y_pred, sample_weight)\n\u001b[1;32m    215\u001b[0m \u001b[38;5;28;01mif\u001b[39;00m y_type\u001b[38;5;241m.\u001b[39mstartswith(\u001b[38;5;124m\"\u001b[39m\u001b[38;5;124mmultilabel\u001b[39m\u001b[38;5;124m\"\u001b[39m):\n",
      "File \u001b[0;32m~/anaconda3/envs/qiskit/lib/python3.11/site-packages/sklearn/metrics/_classification.py:94\u001b[0m, in \u001b[0;36m_check_targets\u001b[0;34m(y_true, y_pred)\u001b[0m\n\u001b[1;32m     91\u001b[0m     y_type \u001b[38;5;241m=\u001b[39m {\u001b[38;5;124m\"\u001b[39m\u001b[38;5;124mmulticlass\u001b[39m\u001b[38;5;124m\"\u001b[39m}\n\u001b[1;32m     93\u001b[0m \u001b[38;5;28;01mif\u001b[39;00m \u001b[38;5;28mlen\u001b[39m(y_type) \u001b[38;5;241m>\u001b[39m \u001b[38;5;241m1\u001b[39m:\n\u001b[0;32m---> 94\u001b[0m     \u001b[38;5;28;01mraise\u001b[39;00m \u001b[38;5;167;01mValueError\u001b[39;00m(\n\u001b[1;32m     95\u001b[0m         \u001b[38;5;124m\"\u001b[39m\u001b[38;5;124mClassification metrics can\u001b[39m\u001b[38;5;124m'\u001b[39m\u001b[38;5;124mt handle a mix of \u001b[39m\u001b[38;5;132;01m{0}\u001b[39;00m\u001b[38;5;124m and \u001b[39m\u001b[38;5;132;01m{1}\u001b[39;00m\u001b[38;5;124m targets\u001b[39m\u001b[38;5;124m\"\u001b[39m\u001b[38;5;241m.\u001b[39mformat(\n\u001b[1;32m     96\u001b[0m             type_true, type_pred\n\u001b[1;32m     97\u001b[0m         )\n\u001b[1;32m     98\u001b[0m     )\n\u001b[1;32m    100\u001b[0m \u001b[38;5;66;03m# We can't have more than one value on y_type => The set is no more needed\u001b[39;00m\n\u001b[1;32m    101\u001b[0m y_type \u001b[38;5;241m=\u001b[39m y_type\u001b[38;5;241m.\u001b[39mpop()\n",
      "\u001b[0;31mValueError\u001b[0m: Classification metrics can't handle a mix of multilabel-indicator and continuous-multioutput targets"
     ]
    }
   ],
   "source": []
  },
  {
   "cell_type": "code",
   "execution_count": 8,
   "metadata": {},
   "outputs": [],
   "source": [
    "# from nn_trainer import trainer_model"
   ]
  },
  {
   "cell_type": "code",
   "execution_count": 9,
   "metadata": {},
   "outputs": [],
   "source": [
    "# nn model\n",
    "# def create_model(input_dim, output_dim):\n",
    "#     initializer = keras.initializers.he_normal(seed=42)\n",
    "#     return trainer_model(\n",
    "#         layers=[\n",
    "#             Input(shape=(input_dim,)),\n",
    "#         ]\n",
    "#     )\n"
   ]
  },
  {
   "cell_type": "code",
   "execution_count": 24,
   "metadata": {},
   "outputs": [],
   "source": [
    "input_layer = Input(shape=(3,))  \n",
    "\n",
    "# hidden_layer_1 = Dense(1024, activation='relu')(input_layer)\n",
    "# hidden_layer_1 = Dropout(0.3)(hidden_layer_1)\n",
    "# hidden_layer_2 = Dense(512, activation='relu')(hidden_layer_1)\n",
    "# hidden_layer_2 = BatchNormalization()(hidden_layer_2)\n",
    "hidden_layer_3 = Dense(2048, activation='elu')(input_layer)\n",
    "hidden_layer_3 = Dropout(0.3)(hidden_layer_3)\n",
    "\n",
    "\n",
    "class_output = Dense(8, activation='softmax', name='class_output')(hidden_layer_3)  \n",
    "reg_output = Dense(1, name='reg_output')(hidden_layer_3)  \n",
    "\n",
    "\n",
    "model = Model(inputs=input_layer, outputs=[class_output, reg_output])\n",
    "\n"
   ]
  },
  {
   "cell_type": "code",
   "execution_count": 25,
   "metadata": {},
   "outputs": [],
   "source": [
    "model.compile(optimizer=Adam(learning_rate=0.0005),\n",
    "              loss={'class_output': 'categorical_crossentropy', 'reg_output': 'mean_squared_error'},\n",
    "              metrics={'class_output': 'accuracy', 'reg_output': 'mean_squared_error'})\n"
   ]
  },
  {
   "cell_type": "code",
   "execution_count": 26,
   "metadata": {},
   "outputs": [
    {
     "name": "stdout",
     "output_type": "stream",
     "text": [
      "Epoch 1/100\n"
     ]
    },
    {
     "name": "stdout",
     "output_type": "stream",
     "text": [
      "10/10 - 1s - 85ms/step - class_output_accuracy: 0.1438 - loss: 24.3972 - reg_output_mean_squared_error: 22.3205 - val_class_output_accuracy: 0.1185 - val_loss: 26.0671 - val_reg_output_mean_squared_error: 24.0008\n",
      "Epoch 2/100\n",
      "10/10 - 0s - 5ms/step - class_output_accuracy: 0.1374 - loss: 21.5143 - reg_output_mean_squared_error: 19.4516 - val_class_output_accuracy: 0.1259 - val_loss: 22.8857 - val_reg_output_mean_squared_error: 20.8261\n",
      "Epoch 3/100\n",
      "10/10 - 0s - 4ms/step - class_output_accuracy: 0.1470 - loss: 18.4436 - reg_output_mean_squared_error: 16.3927 - val_class_output_accuracy: 0.1259 - val_loss: 19.0748 - val_reg_output_mean_squared_error: 17.0208\n",
      "Epoch 4/100\n",
      "10/10 - 0s - 6ms/step - class_output_accuracy: 0.1246 - loss: 14.8039 - reg_output_mean_squared_error: 12.7621 - val_class_output_accuracy: 0.1333 - val_loss: 15.0008 - val_reg_output_mean_squared_error: 12.9468\n",
      "Epoch 5/100\n",
      "10/10 - 0s - 19ms/step - class_output_accuracy: 0.1310 - loss: 11.2696 - reg_output_mean_squared_error: 9.2339 - val_class_output_accuracy: 0.1111 - val_loss: 11.3089 - val_reg_output_mean_squared_error: 9.2503\n",
      "Epoch 6/100\n",
      "10/10 - 0s - 13ms/step - class_output_accuracy: 0.1406 - loss: 8.3701 - reg_output_mean_squared_error: 6.3406 - val_class_output_accuracy: 0.1259 - val_loss: 8.4444 - val_reg_output_mean_squared_error: 6.3804\n",
      "Epoch 7/100\n",
      "10/10 - 0s - 14ms/step - class_output_accuracy: 0.1182 - loss: 6.5924 - reg_output_mean_squared_error: 4.5630 - val_class_output_accuracy: 0.1111 - val_loss: 6.8940 - val_reg_output_mean_squared_error: 4.8289\n",
      "Epoch 8/100\n",
      "10/10 - 0s - 12ms/step - class_output_accuracy: 0.1278 - loss: 5.9920 - reg_output_mean_squared_error: 3.9693 - val_class_output_accuracy: 0.1630 - val_loss: 6.2783 - val_reg_output_mean_squared_error: 4.2149\n",
      "Epoch 9/100\n",
      "10/10 - 0s - 5ms/step - class_output_accuracy: 0.1054 - loss: 5.8535 - reg_output_mean_squared_error: 3.8328 - val_class_output_accuracy: 0.1259 - val_loss: 6.2042 - val_reg_output_mean_squared_error: 4.1400\n",
      "Epoch 10/100\n",
      "10/10 - 0s - 4ms/step - class_output_accuracy: 0.0927 - loss: 5.9232 - reg_output_mean_squared_error: 3.9043 - val_class_output_accuracy: 0.1111 - val_loss: 6.1709 - val_reg_output_mean_squared_error: 4.1160\n",
      "Epoch 11/100\n",
      "10/10 - 0s - 4ms/step - class_output_accuracy: 0.0927 - loss: 5.9008 - reg_output_mean_squared_error: 3.8861 - val_class_output_accuracy: 0.1407 - val_loss: 6.2009 - val_reg_output_mean_squared_error: 4.1467\n",
      "Epoch 12/100\n",
      "10/10 - 0s - 4ms/step - class_output_accuracy: 0.1246 - loss: 5.9091 - reg_output_mean_squared_error: 3.8946 - val_class_output_accuracy: 0.1630 - val_loss: 6.2594 - val_reg_output_mean_squared_error: 4.2034\n",
      "Epoch 13/100\n",
      "10/10 - 0s - 4ms/step - class_output_accuracy: 0.1310 - loss: 5.8620 - reg_output_mean_squared_error: 3.8481 - val_class_output_accuracy: 0.1111 - val_loss: 6.3055 - val_reg_output_mean_squared_error: 4.2474\n",
      "Epoch 14/100\n",
      "10/10 - 0s - 4ms/step - class_output_accuracy: 0.1150 - loss: 5.8467 - reg_output_mean_squared_error: 3.8330 - val_class_output_accuracy: 0.1111 - val_loss: 6.2862 - val_reg_output_mean_squared_error: 4.2242\n",
      "Epoch 15/100\n",
      "10/10 - 0s - 4ms/step - class_output_accuracy: 0.1118 - loss: 5.8697 - reg_output_mean_squared_error: 3.8579 - val_class_output_accuracy: 0.1185 - val_loss: 6.2494 - val_reg_output_mean_squared_error: 4.1894\n",
      "Epoch 16/100\n",
      "10/10 - 0s - 4ms/step - class_output_accuracy: 0.1150 - loss: 5.8605 - reg_output_mean_squared_error: 3.8509 - val_class_output_accuracy: 0.1259 - val_loss: 6.2596 - val_reg_output_mean_squared_error: 4.1988\n",
      "Epoch 17/100\n",
      "10/10 - 0s - 4ms/step - class_output_accuracy: 0.1214 - loss: 5.8550 - reg_output_mean_squared_error: 3.8474 - val_class_output_accuracy: 0.1704 - val_loss: 6.2299 - val_reg_output_mean_squared_error: 4.1716\n",
      "Epoch 18/100\n",
      "10/10 - 0s - 5ms/step - class_output_accuracy: 0.1406 - loss: 5.8602 - reg_output_mean_squared_error: 3.8531 - val_class_output_accuracy: 0.1704 - val_loss: 6.2593 - val_reg_output_mean_squared_error: 4.2048\n",
      "Epoch 19/100\n",
      "10/10 - 0s - 5ms/step - class_output_accuracy: 0.1470 - loss: 5.8601 - reg_output_mean_squared_error: 3.8502 - val_class_output_accuracy: 0.1481 - val_loss: 6.2408 - val_reg_output_mean_squared_error: 4.1840\n",
      "Epoch 20/100\n",
      "10/10 - 0s - 4ms/step - class_output_accuracy: 0.1054 - loss: 5.8772 - reg_output_mean_squared_error: 3.8677 - val_class_output_accuracy: 0.1333 - val_loss: 6.2546 - val_reg_output_mean_squared_error: 4.1983\n",
      "Epoch 21/100\n",
      "10/10 - 0s - 4ms/step - class_output_accuracy: 0.1182 - loss: 5.8765 - reg_output_mean_squared_error: 3.8692 - val_class_output_accuracy: 0.1630 - val_loss: 6.2198 - val_reg_output_mean_squared_error: 4.1628\n",
      "Epoch 22/100\n",
      "10/10 - 0s - 4ms/step - class_output_accuracy: 0.1022 - loss: 5.8363 - reg_output_mean_squared_error: 3.8290 - val_class_output_accuracy: 0.1259 - val_loss: 6.2183 - val_reg_output_mean_squared_error: 4.1642\n",
      "Epoch 23/100\n",
      "10/10 - 0s - 4ms/step - class_output_accuracy: 0.1246 - loss: 5.8523 - reg_output_mean_squared_error: 3.8513 - val_class_output_accuracy: 0.1407 - val_loss: 6.2339 - val_reg_output_mean_squared_error: 4.1773\n",
      "Epoch 24/100\n",
      "10/10 - 0s - 4ms/step - class_output_accuracy: 0.1118 - loss: 5.8482 - reg_output_mean_squared_error: 3.8424 - val_class_output_accuracy: 0.1333 - val_loss: 6.2706 - val_reg_output_mean_squared_error: 4.2150\n",
      "Epoch 25/100\n",
      "10/10 - 0s - 5ms/step - class_output_accuracy: 0.1278 - loss: 5.8431 - reg_output_mean_squared_error: 3.8387 - val_class_output_accuracy: 0.1407 - val_loss: 6.2528 - val_reg_output_mean_squared_error: 4.1956\n",
      "Epoch 26/100\n",
      "10/10 - 0s - 4ms/step - class_output_accuracy: 0.1054 - loss: 5.8579 - reg_output_mean_squared_error: 3.8499 - val_class_output_accuracy: 0.1333 - val_loss: 6.2386 - val_reg_output_mean_squared_error: 4.1789\n",
      "Epoch 27/100\n",
      "10/10 - 0s - 5ms/step - class_output_accuracy: 0.1054 - loss: 5.8461 - reg_output_mean_squared_error: 3.8406 - val_class_output_accuracy: 0.1037 - val_loss: 6.2758 - val_reg_output_mean_squared_error: 4.2149\n",
      "Epoch 28/100\n",
      "10/10 - 0s - 4ms/step - class_output_accuracy: 0.1086 - loss: 5.8520 - reg_output_mean_squared_error: 3.8479 - val_class_output_accuracy: 0.1926 - val_loss: 6.2367 - val_reg_output_mean_squared_error: 4.1775\n",
      "Epoch 29/100\n",
      "10/10 - 0s - 4ms/step - class_output_accuracy: 0.1310 - loss: 5.8760 - reg_output_mean_squared_error: 3.8718 - val_class_output_accuracy: 0.1481 - val_loss: 6.2355 - val_reg_output_mean_squared_error: 4.1771\n",
      "Epoch 30/100\n",
      "10/10 - 0s - 4ms/step - class_output_accuracy: 0.1150 - loss: 5.8649 - reg_output_mean_squared_error: 3.8591 - val_class_output_accuracy: 0.1481 - val_loss: 6.2418 - val_reg_output_mean_squared_error: 4.1836\n",
      "Epoch 31/100\n",
      "10/10 - 0s - 4ms/step - class_output_accuracy: 0.1278 - loss: 5.8892 - reg_output_mean_squared_error: 3.8837 - val_class_output_accuracy: 0.1407 - val_loss: 6.2311 - val_reg_output_mean_squared_error: 4.1715\n",
      "Epoch 32/100\n",
      "10/10 - 0s - 4ms/step - class_output_accuracy: 0.1182 - loss: 5.8603 - reg_output_mean_squared_error: 3.8585 - val_class_output_accuracy: 0.1185 - val_loss: 6.2530 - val_reg_output_mean_squared_error: 4.1940\n",
      "Epoch 33/100\n",
      "10/10 - 0s - 4ms/step - class_output_accuracy: 0.1182 - loss: 5.8291 - reg_output_mean_squared_error: 3.8250 - val_class_output_accuracy: 0.1852 - val_loss: 6.2600 - val_reg_output_mean_squared_error: 4.2026\n",
      "Epoch 34/100\n",
      "10/10 - 0s - 4ms/step - class_output_accuracy: 0.1502 - loss: 5.8829 - reg_output_mean_squared_error: 3.8812 - val_class_output_accuracy: 0.1259 - val_loss: 6.2240 - val_reg_output_mean_squared_error: 4.1627\n",
      "Epoch 35/100\n",
      "10/10 - 0s - 4ms/step - class_output_accuracy: 0.1118 - loss: 5.8477 - reg_output_mean_squared_error: 3.8470 - val_class_output_accuracy: 0.1185 - val_loss: 6.2295 - val_reg_output_mean_squared_error: 4.1652\n",
      "Epoch 36/100\n",
      "10/10 - 0s - 8ms/step - class_output_accuracy: 0.1086 - loss: 5.8092 - reg_output_mean_squared_error: 3.8093 - val_class_output_accuracy: 0.1407 - val_loss: 6.2596 - val_reg_output_mean_squared_error: 4.1972\n",
      "Epoch 37/100\n",
      "10/10 - 0s - 15ms/step - class_output_accuracy: 0.1278 - loss: 5.8835 - reg_output_mean_squared_error: 3.8797 - val_class_output_accuracy: 0.1481 - val_loss: 6.2670 - val_reg_output_mean_squared_error: 4.2042\n",
      "Epoch 38/100\n",
      "10/10 - 0s - 8ms/step - class_output_accuracy: 0.1086 - loss: 5.8575 - reg_output_mean_squared_error: 3.8549 - val_class_output_accuracy: 0.1481 - val_loss: 6.2410 - val_reg_output_mean_squared_error: 4.1814\n",
      "Epoch 39/100\n",
      "10/10 - 0s - 13ms/step - class_output_accuracy: 0.1246 - loss: 5.8889 - reg_output_mean_squared_error: 3.8880 - val_class_output_accuracy: 0.1630 - val_loss: 6.2660 - val_reg_output_mean_squared_error: 4.2034\n",
      "Epoch 40/100\n",
      "10/10 - 0s - 15ms/step - class_output_accuracy: 0.1278 - loss: 5.8799 - reg_output_mean_squared_error: 3.8759 - val_class_output_accuracy: 0.1704 - val_loss: 6.2452 - val_reg_output_mean_squared_error: 4.1833\n",
      "Epoch 41/100\n",
      "10/10 - 0s - 4ms/step - class_output_accuracy: 0.1246 - loss: 5.8753 - reg_output_mean_squared_error: 3.8738 - val_class_output_accuracy: 0.1185 - val_loss: 6.2248 - val_reg_output_mean_squared_error: 4.1623\n",
      "Epoch 42/100\n",
      "10/10 - 0s - 4ms/step - class_output_accuracy: 0.0895 - loss: 5.8296 - reg_output_mean_squared_error: 3.8284 - val_class_output_accuracy: 0.1407 - val_loss: 6.2335 - val_reg_output_mean_squared_error: 4.1728\n",
      "Epoch 43/100\n",
      "10/10 - 0s - 4ms/step - class_output_accuracy: 0.1118 - loss: 5.8801 - reg_output_mean_squared_error: 3.8757 - val_class_output_accuracy: 0.1407 - val_loss: 6.2906 - val_reg_output_mean_squared_error: 4.2294\n",
      "Epoch 44/100\n",
      "10/10 - 0s - 4ms/step - class_output_accuracy: 0.1150 - loss: 5.8466 - reg_output_mean_squared_error: 3.8407 - val_class_output_accuracy: 0.1333 - val_loss: 6.2453 - val_reg_output_mean_squared_error: 4.1853\n",
      "Epoch 45/100\n",
      "10/10 - 0s - 6ms/step - class_output_accuracy: 0.1182 - loss: 5.8507 - reg_output_mean_squared_error: 3.8511 - val_class_output_accuracy: 0.1481 - val_loss: 6.2609 - val_reg_output_mean_squared_error: 4.2005\n",
      "Epoch 46/100\n",
      "10/10 - 0s - 17ms/step - class_output_accuracy: 0.1182 - loss: 5.8957 - reg_output_mean_squared_error: 3.8969 - val_class_output_accuracy: 0.1037 - val_loss: 6.1976 - val_reg_output_mean_squared_error: 4.1370\n",
      "Epoch 47/100\n",
      "10/10 - 0s - 14ms/step - class_output_accuracy: 0.1182 - loss: 5.8636 - reg_output_mean_squared_error: 3.8600 - val_class_output_accuracy: 0.1407 - val_loss: 6.2792 - val_reg_output_mean_squared_error: 4.2157\n",
      "Epoch 48/100\n",
      "10/10 - 0s - 16ms/step - class_output_accuracy: 0.1374 - loss: 5.8515 - reg_output_mean_squared_error: 3.8468 - val_class_output_accuracy: 0.1407 - val_loss: 6.2868 - val_reg_output_mean_squared_error: 4.2190\n",
      "Epoch 49/100\n",
      "10/10 - 0s - 8ms/step - class_output_accuracy: 0.1182 - loss: 5.9001 - reg_output_mean_squared_error: 3.8972 - val_class_output_accuracy: 0.1185 - val_loss: 6.2548 - val_reg_output_mean_squared_error: 4.1885\n",
      "Epoch 50/100\n",
      "10/10 - 0s - 4ms/step - class_output_accuracy: 0.1214 - loss: 5.8643 - reg_output_mean_squared_error: 3.8654 - val_class_output_accuracy: 0.1185 - val_loss: 6.2689 - val_reg_output_mean_squared_error: 4.2057\n",
      "Epoch 51/100\n",
      "10/10 - 0s - 5ms/step - class_output_accuracy: 0.1214 - loss: 5.9326 - reg_output_mean_squared_error: 3.9308 - val_class_output_accuracy: 0.1407 - val_loss: 6.2313 - val_reg_output_mean_squared_error: 4.1674\n",
      "Epoch 52/100\n",
      "10/10 - 0s - 4ms/step - class_output_accuracy: 0.1246 - loss: 5.8767 - reg_output_mean_squared_error: 3.8723 - val_class_output_accuracy: 0.1481 - val_loss: 6.2308 - val_reg_output_mean_squared_error: 4.1663\n",
      "Epoch 53/100\n",
      "10/10 - 0s - 4ms/step - class_output_accuracy: 0.1118 - loss: 5.8273 - reg_output_mean_squared_error: 3.8264 - val_class_output_accuracy: 0.1259 - val_loss: 6.2481 - val_reg_output_mean_squared_error: 4.1838\n",
      "Epoch 54/100\n",
      "10/10 - 0s - 6ms/step - class_output_accuracy: 0.1374 - loss: 5.8549 - reg_output_mean_squared_error: 3.8562 - val_class_output_accuracy: 0.1333 - val_loss: 6.2486 - val_reg_output_mean_squared_error: 4.1848\n",
      "Epoch 55/100\n",
      "10/10 - 0s - 10ms/step - class_output_accuracy: 0.1438 - loss: 5.8616 - reg_output_mean_squared_error: 3.8602 - val_class_output_accuracy: 0.1185 - val_loss: 6.2605 - val_reg_output_mean_squared_error: 4.1973\n",
      "Epoch 56/100\n",
      "10/10 - 0s - 11ms/step - class_output_accuracy: 0.1086 - loss: 5.8687 - reg_output_mean_squared_error: 3.8672 - val_class_output_accuracy: 0.1407 - val_loss: 6.2316 - val_reg_output_mean_squared_error: 4.1683\n",
      "Epoch 57/100\n",
      "10/10 - 0s - 16ms/step - class_output_accuracy: 0.0863 - loss: 5.8753 - reg_output_mean_squared_error: 3.8741 - val_class_output_accuracy: 0.1407 - val_loss: 6.2699 - val_reg_output_mean_squared_error: 4.2024\n",
      "Epoch 58/100\n",
      "10/10 - 0s - 11ms/step - class_output_accuracy: 0.1406 - loss: 5.8555 - reg_output_mean_squared_error: 3.8504 - val_class_output_accuracy: 0.1556 - val_loss: 6.2655 - val_reg_output_mean_squared_error: 4.1976\n",
      "Epoch 59/100\n",
      "10/10 - 0s - 12ms/step - class_output_accuracy: 0.1278 - loss: 5.8777 - reg_output_mean_squared_error: 3.8725 - val_class_output_accuracy: 0.1333 - val_loss: 6.2401 - val_reg_output_mean_squared_error: 4.1725\n",
      "Epoch 60/100\n",
      "10/10 - 0s - 4ms/step - class_output_accuracy: 0.1214 - loss: 5.8410 - reg_output_mean_squared_error: 3.8385 - val_class_output_accuracy: 0.1185 - val_loss: 6.2208 - val_reg_output_mean_squared_error: 4.1540\n",
      "Epoch 61/100\n",
      "10/10 - 0s - 4ms/step - class_output_accuracy: 0.1118 - loss: 5.8581 - reg_output_mean_squared_error: 3.8573 - val_class_output_accuracy: 0.1111 - val_loss: 6.2734 - val_reg_output_mean_squared_error: 4.2046\n",
      "Epoch 62/100\n",
      "10/10 - 0s - 4ms/step - class_output_accuracy: 0.1150 - loss: 5.8646 - reg_output_mean_squared_error: 3.8623 - val_class_output_accuracy: 0.1259 - val_loss: 6.2197 - val_reg_output_mean_squared_error: 4.1537\n",
      "Epoch 63/100\n",
      "10/10 - 0s - 4ms/step - class_output_accuracy: 0.1342 - loss: 5.8956 - reg_output_mean_squared_error: 3.8927 - val_class_output_accuracy: 0.1185 - val_loss: 6.2435 - val_reg_output_mean_squared_error: 4.1793\n",
      "Epoch 64/100\n",
      "10/10 - 0s - 4ms/step - class_output_accuracy: 0.1278 - loss: 5.8361 - reg_output_mean_squared_error: 3.8368 - val_class_output_accuracy: 0.1111 - val_loss: 6.2693 - val_reg_output_mean_squared_error: 4.2061\n",
      "Epoch 65/100\n",
      "10/10 - 0s - 4ms/step - class_output_accuracy: 0.1310 - loss: 5.8367 - reg_output_mean_squared_error: 3.8379 - val_class_output_accuracy: 0.1333 - val_loss: 6.2494 - val_reg_output_mean_squared_error: 4.1825\n",
      "Epoch 66/100\n",
      "10/10 - 0s - 4ms/step - class_output_accuracy: 0.1310 - loss: 5.8112 - reg_output_mean_squared_error: 3.8092 - val_class_output_accuracy: 0.1259 - val_loss: 6.2214 - val_reg_output_mean_squared_error: 4.1520\n",
      "Epoch 67/100\n",
      "10/10 - 0s - 4ms/step - class_output_accuracy: 0.0927 - loss: 5.8588 - reg_output_mean_squared_error: 3.8557 - val_class_output_accuracy: 0.1185 - val_loss: 6.2448 - val_reg_output_mean_squared_error: 4.1774\n",
      "Epoch 68/100\n",
      "10/10 - 0s - 4ms/step - class_output_accuracy: 0.1278 - loss: 5.8651 - reg_output_mean_squared_error: 3.8646 - val_class_output_accuracy: 0.1185 - val_loss: 6.2300 - val_reg_output_mean_squared_error: 4.1652\n",
      "Epoch 69/100\n",
      "10/10 - 0s - 4ms/step - class_output_accuracy: 0.1054 - loss: 5.8176 - reg_output_mean_squared_error: 3.8170 - val_class_output_accuracy: 0.1481 - val_loss: 6.2825 - val_reg_output_mean_squared_error: 4.2189\n",
      "Epoch 70/100\n",
      "10/10 - 0s - 4ms/step - class_output_accuracy: 0.1214 - loss: 5.8466 - reg_output_mean_squared_error: 3.8447 - val_class_output_accuracy: 0.1333 - val_loss: 6.2398 - val_reg_output_mean_squared_error: 4.1723\n",
      "Epoch 71/100\n",
      "10/10 - 0s - 4ms/step - class_output_accuracy: 0.1150 - loss: 5.8583 - reg_output_mean_squared_error: 3.8572 - val_class_output_accuracy: 0.1185 - val_loss: 6.2214 - val_reg_output_mean_squared_error: 4.1545\n",
      "Epoch 72/100\n",
      "10/10 - 0s - 4ms/step - class_output_accuracy: 0.1278 - loss: 5.8444 - reg_output_mean_squared_error: 3.8432 - val_class_output_accuracy: 0.1111 - val_loss: 6.2444 - val_reg_output_mean_squared_error: 4.1750\n",
      "Epoch 73/100\n",
      "10/10 - 0s - 4ms/step - class_output_accuracy: 0.1214 - loss: 5.8819 - reg_output_mean_squared_error: 3.8787 - val_class_output_accuracy: 0.1259 - val_loss: 6.2679 - val_reg_output_mean_squared_error: 4.1998\n",
      "Epoch 74/100\n",
      "10/10 - 0s - 4ms/step - class_output_accuracy: 0.0958 - loss: 5.8326 - reg_output_mean_squared_error: 3.8351 - val_class_output_accuracy: 0.1111 - val_loss: 6.2219 - val_reg_output_mean_squared_error: 4.1557\n",
      "Epoch 75/100\n",
      "10/10 - 0s - 4ms/step - class_output_accuracy: 0.1182 - loss: 5.8486 - reg_output_mean_squared_error: 3.8513 - val_class_output_accuracy: 0.1259 - val_loss: 6.2597 - val_reg_output_mean_squared_error: 4.1945\n",
      "Epoch 76/100\n",
      "10/10 - 0s - 5ms/step - class_output_accuracy: 0.0831 - loss: 5.8596 - reg_output_mean_squared_error: 3.8582 - val_class_output_accuracy: 0.1111 - val_loss: 6.2778 - val_reg_output_mean_squared_error: 4.2091\n",
      "Epoch 77/100\n",
      "10/10 - 0s - 4ms/step - class_output_accuracy: 0.1086 - loss: 5.8297 - reg_output_mean_squared_error: 3.8305 - val_class_output_accuracy: 0.1407 - val_loss: 6.2374 - val_reg_output_mean_squared_error: 4.1713\n",
      "Epoch 78/100\n",
      "10/10 - 0s - 4ms/step - class_output_accuracy: 0.1310 - loss: 5.8702 - reg_output_mean_squared_error: 3.8709 - val_class_output_accuracy: 0.1481 - val_loss: 6.2388 - val_reg_output_mean_squared_error: 4.1707\n",
      "Epoch 79/100\n",
      "10/10 - 0s - 4ms/step - class_output_accuracy: 0.0990 - loss: 5.8874 - reg_output_mean_squared_error: 3.8831 - val_class_output_accuracy: 0.1185 - val_loss: 6.2238 - val_reg_output_mean_squared_error: 4.1578\n",
      "Epoch 80/100\n",
      "10/10 - 0s - 4ms/step - class_output_accuracy: 0.1342 - loss: 5.8462 - reg_output_mean_squared_error: 3.8448 - val_class_output_accuracy: 0.1333 - val_loss: 6.3173 - val_reg_output_mean_squared_error: 4.2473\n",
      "Epoch 81/100\n",
      "10/10 - 0s - 4ms/step - class_output_accuracy: 0.1438 - loss: 5.8669 - reg_output_mean_squared_error: 3.8668 - val_class_output_accuracy: 0.1556 - val_loss: 6.2919 - val_reg_output_mean_squared_error: 4.2224\n",
      "Epoch 82/100\n",
      "10/10 - 0s - 4ms/step - class_output_accuracy: 0.1150 - loss: 5.8107 - reg_output_mean_squared_error: 3.8150 - val_class_output_accuracy: 0.1407 - val_loss: 6.2646 - val_reg_output_mean_squared_error: 4.1960\n",
      "Epoch 83/100\n",
      "10/10 - 0s - 4ms/step - class_output_accuracy: 0.1022 - loss: 5.8621 - reg_output_mean_squared_error: 3.8552 - val_class_output_accuracy: 0.1259 - val_loss: 6.2329 - val_reg_output_mean_squared_error: 4.1653\n",
      "Epoch 84/100\n",
      "10/10 - 0s - 4ms/step - class_output_accuracy: 0.1182 - loss: 5.8759 - reg_output_mean_squared_error: 3.8724 - val_class_output_accuracy: 0.1185 - val_loss: 6.2588 - val_reg_output_mean_squared_error: 4.1913\n",
      "Epoch 85/100\n",
      "10/10 - 0s - 4ms/step - class_output_accuracy: 0.1278 - loss: 5.8147 - reg_output_mean_squared_error: 3.8124 - val_class_output_accuracy: 0.1259 - val_loss: 6.2199 - val_reg_output_mean_squared_error: 4.1557\n",
      "Epoch 86/100\n",
      "10/10 - 0s - 4ms/step - class_output_accuracy: 0.1182 - loss: 5.8277 - reg_output_mean_squared_error: 3.8322 - val_class_output_accuracy: 0.1111 - val_loss: 6.2418 - val_reg_output_mean_squared_error: 4.1770\n",
      "Epoch 87/100\n",
      "10/10 - 0s - 4ms/step - class_output_accuracy: 0.1150 - loss: 5.8098 - reg_output_mean_squared_error: 3.8109 - val_class_output_accuracy: 0.1037 - val_loss: 6.2311 - val_reg_output_mean_squared_error: 4.1643\n",
      "Epoch 88/100\n",
      "10/10 - 0s - 5ms/step - class_output_accuracy: 0.1214 - loss: 5.8656 - reg_output_mean_squared_error: 3.8660 - val_class_output_accuracy: 0.1259 - val_loss: 6.2418 - val_reg_output_mean_squared_error: 4.1726\n",
      "Epoch 89/100\n",
      "10/10 - 0s - 4ms/step - class_output_accuracy: 0.1118 - loss: 5.8315 - reg_output_mean_squared_error: 3.8269 - val_class_output_accuracy: 0.1556 - val_loss: 6.2357 - val_reg_output_mean_squared_error: 4.1649\n",
      "Epoch 90/100\n",
      "10/10 - 0s - 4ms/step - class_output_accuracy: 0.1246 - loss: 5.8686 - reg_output_mean_squared_error: 3.8654 - val_class_output_accuracy: 0.1259 - val_loss: 6.2305 - val_reg_output_mean_squared_error: 4.1606\n",
      "Epoch 91/100\n",
      "10/10 - 0s - 4ms/step - class_output_accuracy: 0.0958 - loss: 5.8588 - reg_output_mean_squared_error: 3.8574 - val_class_output_accuracy: 0.1259 - val_loss: 6.3120 - val_reg_output_mean_squared_error: 4.2440\n",
      "Epoch 92/100\n",
      "10/10 - 0s - 5ms/step - class_output_accuracy: 0.1022 - loss: 5.8556 - reg_output_mean_squared_error: 3.8509 - val_class_output_accuracy: 0.1111 - val_loss: 6.2710 - val_reg_output_mean_squared_error: 4.2042\n",
      "Epoch 93/100\n",
      "10/10 - 0s - 4ms/step - class_output_accuracy: 0.1054 - loss: 5.8571 - reg_output_mean_squared_error: 3.8566 - val_class_output_accuracy: 0.1185 - val_loss: 6.2168 - val_reg_output_mean_squared_error: 4.1464\n",
      "Epoch 94/100\n",
      "10/10 - 0s - 4ms/step - class_output_accuracy: 0.1150 - loss: 5.8263 - reg_output_mean_squared_error: 3.8287 - val_class_output_accuracy: 0.1704 - val_loss: 6.2212 - val_reg_output_mean_squared_error: 4.1527\n",
      "Epoch 95/100\n",
      "10/10 - 0s - 4ms/step - class_output_accuracy: 0.1150 - loss: 5.8546 - reg_output_mean_squared_error: 3.8574 - val_class_output_accuracy: 0.1333 - val_loss: 6.2200 - val_reg_output_mean_squared_error: 4.1504\n",
      "Epoch 96/100\n",
      "10/10 - 0s - 4ms/step - class_output_accuracy: 0.1214 - loss: 5.8291 - reg_output_mean_squared_error: 3.8306 - val_class_output_accuracy: 0.1259 - val_loss: 6.2456 - val_reg_output_mean_squared_error: 4.1802\n",
      "Epoch 97/100\n",
      "10/10 - 0s - 4ms/step - class_output_accuracy: 0.1214 - loss: 5.8450 - reg_output_mean_squared_error: 3.8439 - val_class_output_accuracy: 0.1481 - val_loss: 6.2396 - val_reg_output_mean_squared_error: 4.1742\n",
      "Epoch 98/100\n",
      "10/10 - 0s - 4ms/step - class_output_accuracy: 0.1118 - loss: 5.8234 - reg_output_mean_squared_error: 3.8257 - val_class_output_accuracy: 0.1259 - val_loss: 6.1858 - val_reg_output_mean_squared_error: 4.1164\n",
      "Epoch 99/100\n",
      "10/10 - 0s - 4ms/step - class_output_accuracy: 0.1086 - loss: 5.8964 - reg_output_mean_squared_error: 3.8917 - val_class_output_accuracy: 0.1259 - val_loss: 6.2425 - val_reg_output_mean_squared_error: 4.1726\n",
      "Epoch 100/100\n",
      "10/10 - 0s - 9ms/step - class_output_accuracy: 0.1118 - loss: 5.8346 - reg_output_mean_squared_error: 3.8332 - val_class_output_accuracy: 0.1111 - val_loss: 6.3022 - val_reg_output_mean_squared_error: 4.2330\n"
     ]
    }
   ],
   "source": [
    "history = model.fit(X_train, [Y_class_train, Y_reg_train],\n",
    "                    validation_split=0.3,\n",
    "                    epochs=100,\n",
    "                    batch_size=32,\n",
    "                    verbose=2)"
   ]
  },
  {
   "cell_type": "code",
   "execution_count": 13,
   "metadata": {},
   "outputs": [
    {
     "name": "stdout",
     "output_type": "stream",
     "text": [
      "\u001b[1m4/4\u001b[0m \u001b[32m━━━━━━━━━━━━━━━━━━━━\u001b[0m\u001b[37m\u001b[0m \u001b[1m0s\u001b[0m 6ms/step - class_output_accuracy: 0.4621 - loss: 2.7716 - reg_output_mean_squared_error: 1.5776 \n"
     ]
    },
    {
     "data": {
      "text/plain": [
       "[3.121758460998535, 0.4285714328289032, 1.8190447092056274]"
      ]
     },
     "execution_count": 13,
     "metadata": {},
     "output_type": "execute_result"
    }
   ],
   "source": [
    "model.evaluate(X_test, [Y_class_test, Y_reg_test])"
   ]
  },
  {
   "cell_type": "code",
   "execution_count": 14,
   "metadata": {},
   "outputs": [
    {
     "data": {
      "text/html": [
       "<pre style=\"white-space:pre;overflow-x:auto;line-height:normal;font-family:Menlo,'DejaVu Sans Mono',consolas,'Courier New',monospace\"><span style=\"font-weight: bold\">Model: \"functional_1\"</span>\n",
       "</pre>\n"
      ],
      "text/plain": [
       "\u001b[1mModel: \"functional_1\"\u001b[0m\n"
      ]
     },
     "metadata": {},
     "output_type": "display_data"
    },
    {
     "data": {
      "text/html": [
       "<pre style=\"white-space:pre;overflow-x:auto;line-height:normal;font-family:Menlo,'DejaVu Sans Mono',consolas,'Courier New',monospace\">┏━━━━━━━━━━━━━━━━━━━━━┳━━━━━━━━━━━━━━━━━━━┳━━━━━━━━━┳━━━━━━━━━━━━━━━━━━━━━━┓\n",
       "┃<span style=\"font-weight: bold\"> Layer (type)        </span>┃<span style=\"font-weight: bold\"> Output Shape      </span>┃<span style=\"font-weight: bold\"> Param # </span>┃<span style=\"font-weight: bold\"> Connected to         </span>┃\n",
       "┡━━━━━━━━━━━━━━━━━━━━━╇━━━━━━━━━━━━━━━━━━━╇━━━━━━━━━╇━━━━━━━━━━━━━━━━━━━━━━┩\n",
       "│ input_layer         │ (<span style=\"color: #00d7ff; text-decoration-color: #00d7ff\">None</span>, <span style=\"color: #00af00; text-decoration-color: #00af00\">3</span>)         │       <span style=\"color: #00af00; text-decoration-color: #00af00\">0</span> │ -                    │\n",
       "│ (<span style=\"color: #0087ff; text-decoration-color: #0087ff\">InputLayer</span>)        │                   │         │                      │\n",
       "├─────────────────────┼───────────────────┼─────────┼──────────────────────┤\n",
       "│ dense (<span style=\"color: #0087ff; text-decoration-color: #0087ff\">Dense</span>)       │ (<span style=\"color: #00d7ff; text-decoration-color: #00d7ff\">None</span>, <span style=\"color: #00af00; text-decoration-color: #00af00\">1024</span>)      │   <span style=\"color: #00af00; text-decoration-color: #00af00\">4,096</span> │ input_layer[<span style=\"color: #00af00; text-decoration-color: #00af00\">0</span>][<span style=\"color: #00af00; text-decoration-color: #00af00\">0</span>]    │\n",
       "├─────────────────────┼───────────────────┼─────────┼──────────────────────┤\n",
       "│ dropout (<span style=\"color: #0087ff; text-decoration-color: #0087ff\">Dropout</span>)   │ (<span style=\"color: #00d7ff; text-decoration-color: #00d7ff\">None</span>, <span style=\"color: #00af00; text-decoration-color: #00af00\">1024</span>)      │       <span style=\"color: #00af00; text-decoration-color: #00af00\">0</span> │ dense[<span style=\"color: #00af00; text-decoration-color: #00af00\">0</span>][<span style=\"color: #00af00; text-decoration-color: #00af00\">0</span>]          │\n",
       "├─────────────────────┼───────────────────┼─────────┼──────────────────────┤\n",
       "│ dense_1 (<span style=\"color: #0087ff; text-decoration-color: #0087ff\">Dense</span>)     │ (<span style=\"color: #00d7ff; text-decoration-color: #00d7ff\">None</span>, <span style=\"color: #00af00; text-decoration-color: #00af00\">512</span>)       │ <span style=\"color: #00af00; text-decoration-color: #00af00\">524,800</span> │ dropout[<span style=\"color: #00af00; text-decoration-color: #00af00\">0</span>][<span style=\"color: #00af00; text-decoration-color: #00af00\">0</span>]        │\n",
       "├─────────────────────┼───────────────────┼─────────┼──────────────────────┤\n",
       "│ batch_normalization │ (<span style=\"color: #00d7ff; text-decoration-color: #00d7ff\">None</span>, <span style=\"color: #00af00; text-decoration-color: #00af00\">512</span>)       │   <span style=\"color: #00af00; text-decoration-color: #00af00\">2,048</span> │ dense_1[<span style=\"color: #00af00; text-decoration-color: #00af00\">0</span>][<span style=\"color: #00af00; text-decoration-color: #00af00\">0</span>]        │\n",
       "│ (<span style=\"color: #0087ff; text-decoration-color: #0087ff\">BatchNormalizatio…</span> │                   │         │                      │\n",
       "├─────────────────────┼───────────────────┼─────────┼──────────────────────┤\n",
       "│ dense_2 (<span style=\"color: #0087ff; text-decoration-color: #0087ff\">Dense</span>)     │ (<span style=\"color: #00d7ff; text-decoration-color: #00d7ff\">None</span>, <span style=\"color: #00af00; text-decoration-color: #00af00\">286</span>)       │ <span style=\"color: #00af00; text-decoration-color: #00af00\">146,718</span> │ batch_normalization… │\n",
       "├─────────────────────┼───────────────────┼─────────┼──────────────────────┤\n",
       "│ dropout_1 (<span style=\"color: #0087ff; text-decoration-color: #0087ff\">Dropout</span>) │ (<span style=\"color: #00d7ff; text-decoration-color: #00d7ff\">None</span>, <span style=\"color: #00af00; text-decoration-color: #00af00\">286</span>)       │       <span style=\"color: #00af00; text-decoration-color: #00af00\">0</span> │ dense_2[<span style=\"color: #00af00; text-decoration-color: #00af00\">0</span>][<span style=\"color: #00af00; text-decoration-color: #00af00\">0</span>]        │\n",
       "├─────────────────────┼───────────────────┼─────────┼──────────────────────┤\n",
       "│ class_output        │ (<span style=\"color: #00d7ff; text-decoration-color: #00d7ff\">None</span>, <span style=\"color: #00af00; text-decoration-color: #00af00\">8</span>)         │   <span style=\"color: #00af00; text-decoration-color: #00af00\">2,296</span> │ dropout_1[<span style=\"color: #00af00; text-decoration-color: #00af00\">0</span>][<span style=\"color: #00af00; text-decoration-color: #00af00\">0</span>]      │\n",
       "│ (<span style=\"color: #0087ff; text-decoration-color: #0087ff\">Dense</span>)             │                   │         │                      │\n",
       "├─────────────────────┼───────────────────┼─────────┼──────────────────────┤\n",
       "│ reg_output (<span style=\"color: #0087ff; text-decoration-color: #0087ff\">Dense</span>)  │ (<span style=\"color: #00d7ff; text-decoration-color: #00d7ff\">None</span>, <span style=\"color: #00af00; text-decoration-color: #00af00\">1</span>)         │     <span style=\"color: #00af00; text-decoration-color: #00af00\">287</span> │ dropout_1[<span style=\"color: #00af00; text-decoration-color: #00af00\">0</span>][<span style=\"color: #00af00; text-decoration-color: #00af00\">0</span>]      │\n",
       "└─────────────────────┴───────────────────┴─────────┴──────────────────────┘\n",
       "</pre>\n"
      ],
      "text/plain": [
       "┏━━━━━━━━━━━━━━━━━━━━━┳━━━━━━━━━━━━━━━━━━━┳━━━━━━━━━┳━━━━━━━━━━━━━━━━━━━━━━┓\n",
       "┃\u001b[1m \u001b[0m\u001b[1mLayer (type)       \u001b[0m\u001b[1m \u001b[0m┃\u001b[1m \u001b[0m\u001b[1mOutput Shape     \u001b[0m\u001b[1m \u001b[0m┃\u001b[1m \u001b[0m\u001b[1mParam #\u001b[0m\u001b[1m \u001b[0m┃\u001b[1m \u001b[0m\u001b[1mConnected to        \u001b[0m\u001b[1m \u001b[0m┃\n",
       "┡━━━━━━━━━━━━━━━━━━━━━╇━━━━━━━━━━━━━━━━━━━╇━━━━━━━━━╇━━━━━━━━━━━━━━━━━━━━━━┩\n",
       "│ input_layer         │ (\u001b[38;5;45mNone\u001b[0m, \u001b[38;5;34m3\u001b[0m)         │       \u001b[38;5;34m0\u001b[0m │ -                    │\n",
       "│ (\u001b[38;5;33mInputLayer\u001b[0m)        │                   │         │                      │\n",
       "├─────────────────────┼───────────────────┼─────────┼──────────────────────┤\n",
       "│ dense (\u001b[38;5;33mDense\u001b[0m)       │ (\u001b[38;5;45mNone\u001b[0m, \u001b[38;5;34m1024\u001b[0m)      │   \u001b[38;5;34m4,096\u001b[0m │ input_layer[\u001b[38;5;34m0\u001b[0m][\u001b[38;5;34m0\u001b[0m]    │\n",
       "├─────────────────────┼───────────────────┼─────────┼──────────────────────┤\n",
       "│ dropout (\u001b[38;5;33mDropout\u001b[0m)   │ (\u001b[38;5;45mNone\u001b[0m, \u001b[38;5;34m1024\u001b[0m)      │       \u001b[38;5;34m0\u001b[0m │ dense[\u001b[38;5;34m0\u001b[0m][\u001b[38;5;34m0\u001b[0m]          │\n",
       "├─────────────────────┼───────────────────┼─────────┼──────────────────────┤\n",
       "│ dense_1 (\u001b[38;5;33mDense\u001b[0m)     │ (\u001b[38;5;45mNone\u001b[0m, \u001b[38;5;34m512\u001b[0m)       │ \u001b[38;5;34m524,800\u001b[0m │ dropout[\u001b[38;5;34m0\u001b[0m][\u001b[38;5;34m0\u001b[0m]        │\n",
       "├─────────────────────┼───────────────────┼─────────┼──────────────────────┤\n",
       "│ batch_normalization │ (\u001b[38;5;45mNone\u001b[0m, \u001b[38;5;34m512\u001b[0m)       │   \u001b[38;5;34m2,048\u001b[0m │ dense_1[\u001b[38;5;34m0\u001b[0m][\u001b[38;5;34m0\u001b[0m]        │\n",
       "│ (\u001b[38;5;33mBatchNormalizatio…\u001b[0m │                   │         │                      │\n",
       "├─────────────────────┼───────────────────┼─────────┼──────────────────────┤\n",
       "│ dense_2 (\u001b[38;5;33mDense\u001b[0m)     │ (\u001b[38;5;45mNone\u001b[0m, \u001b[38;5;34m286\u001b[0m)       │ \u001b[38;5;34m146,718\u001b[0m │ batch_normalization… │\n",
       "├─────────────────────┼───────────────────┼─────────┼──────────────────────┤\n",
       "│ dropout_1 (\u001b[38;5;33mDropout\u001b[0m) │ (\u001b[38;5;45mNone\u001b[0m, \u001b[38;5;34m286\u001b[0m)       │       \u001b[38;5;34m0\u001b[0m │ dense_2[\u001b[38;5;34m0\u001b[0m][\u001b[38;5;34m0\u001b[0m]        │\n",
       "├─────────────────────┼───────────────────┼─────────┼──────────────────────┤\n",
       "│ class_output        │ (\u001b[38;5;45mNone\u001b[0m, \u001b[38;5;34m8\u001b[0m)         │   \u001b[38;5;34m2,296\u001b[0m │ dropout_1[\u001b[38;5;34m0\u001b[0m][\u001b[38;5;34m0\u001b[0m]      │\n",
       "│ (\u001b[38;5;33mDense\u001b[0m)             │                   │         │                      │\n",
       "├─────────────────────┼───────────────────┼─────────┼──────────────────────┤\n",
       "│ reg_output (\u001b[38;5;33mDense\u001b[0m)  │ (\u001b[38;5;45mNone\u001b[0m, \u001b[38;5;34m1\u001b[0m)         │     \u001b[38;5;34m287\u001b[0m │ dropout_1[\u001b[38;5;34m0\u001b[0m][\u001b[38;5;34m0\u001b[0m]      │\n",
       "└─────────────────────┴───────────────────┴─────────┴──────────────────────┘\n"
      ]
     },
     "metadata": {},
     "output_type": "display_data"
    },
    {
     "data": {
      "text/html": [
       "<pre style=\"white-space:pre;overflow-x:auto;line-height:normal;font-family:Menlo,'DejaVu Sans Mono',consolas,'Courier New',monospace\"><span style=\"font-weight: bold\"> Total params: </span><span style=\"color: #00af00; text-decoration-color: #00af00\">2,038,689</span> (7.78 MB)\n",
       "</pre>\n"
      ],
      "text/plain": [
       "\u001b[1m Total params: \u001b[0m\u001b[38;5;34m2,038,689\u001b[0m (7.78 MB)\n"
      ]
     },
     "metadata": {},
     "output_type": "display_data"
    },
    {
     "data": {
      "text/html": [
       "<pre style=\"white-space:pre;overflow-x:auto;line-height:normal;font-family:Menlo,'DejaVu Sans Mono',consolas,'Courier New',monospace\"><span style=\"font-weight: bold\"> Trainable params: </span><span style=\"color: #00af00; text-decoration-color: #00af00\">679,221</span> (2.59 MB)\n",
       "</pre>\n"
      ],
      "text/plain": [
       "\u001b[1m Trainable params: \u001b[0m\u001b[38;5;34m679,221\u001b[0m (2.59 MB)\n"
      ]
     },
     "metadata": {},
     "output_type": "display_data"
    },
    {
     "data": {
      "text/html": [
       "<pre style=\"white-space:pre;overflow-x:auto;line-height:normal;font-family:Menlo,'DejaVu Sans Mono',consolas,'Courier New',monospace\"><span style=\"font-weight: bold\"> Non-trainable params: </span><span style=\"color: #00af00; text-decoration-color: #00af00\">1,024</span> (4.00 KB)\n",
       "</pre>\n"
      ],
      "text/plain": [
       "\u001b[1m Non-trainable params: \u001b[0m\u001b[38;5;34m1,024\u001b[0m (4.00 KB)\n"
      ]
     },
     "metadata": {},
     "output_type": "display_data"
    },
    {
     "data": {
      "text/html": [
       "<pre style=\"white-space:pre;overflow-x:auto;line-height:normal;font-family:Menlo,'DejaVu Sans Mono',consolas,'Courier New',monospace\"><span style=\"font-weight: bold\"> Optimizer params: </span><span style=\"color: #00af00; text-decoration-color: #00af00\">1,358,444</span> (5.18 MB)\n",
       "</pre>\n"
      ],
      "text/plain": [
       "\u001b[1m Optimizer params: \u001b[0m\u001b[38;5;34m1,358,444\u001b[0m (5.18 MB)\n"
      ]
     },
     "metadata": {},
     "output_type": "display_data"
    }
   ],
   "source": [
    "model.summary()"
   ]
  },
  {
   "cell_type": "code",
   "execution_count": 15,
   "metadata": {},
   "outputs": [
    {
     "name": "stdout",
     "output_type": "stream",
     "text": [
      "[ 0.00902681 -0.04783698 -0.01826162] [1. 0. 0. 0. 0. 0. 0. 0.] 1.0\n"
     ]
    }
   ],
   "source": [
    "# pridection\n",
    "i= 0\n",
    "print(X[i], Y_class[i], Y_reg[i])\n"
   ]
  },
  {
   "cell_type": "code",
   "execution_count": 16,
   "metadata": {},
   "outputs": [
    {
     "data": {
      "text/plain": [
       "array([[ 0.02150743,  0.00640325, -0.04351044]])"
      ]
     },
     "execution_count": 16,
     "metadata": {},
     "output_type": "execute_result"
    }
   ],
   "source": [
    "\n",
    "x_new = X[1]\n",
    "\n",
    "x_new = x_new.reshape(1, -1)\n",
    "\n",
    "x_new"
   ]
  },
  {
   "cell_type": "code",
   "execution_count": 17,
   "metadata": {},
   "outputs": [
    {
     "name": "stdout",
     "output_type": "stream",
     "text": [
      "\u001b[1m1/1\u001b[0m \u001b[32m━━━━━━━━━━━━━━━━━━━━\u001b[0m\u001b[37m\u001b[0m \u001b[1m0s\u001b[0m 49ms/step\n",
      "[0.10316101 0.05606828 0.02612244 0.13573425 0.03552317 0.21072368\n",
      " 0.08906259 0.34360453]\n",
      "[4.129134]\n"
     ]
    }
   ],
   "source": [
    "y_class_p, y_reg_p = model.predict(x_new)\n",
    "\n",
    "print(y_class_p[0])\n",
    "print(y_reg_p[0])"
   ]
  },
  {
   "cell_type": "code",
   "execution_count": 1,
   "metadata": {},
   "outputs": [
    {
     "name": "stdout",
     "output_type": "stream",
     "text": [
      "Accuracy: 0.95\n"
     ]
    }
   ],
   "source": [
    "from sklearn.datasets import make_classification\n",
    "from sklearn.model_selection import train_test_split\n",
    "from sklearn.linear_model import LinearRegression\n",
    "from sklearn.metrics import accuracy_score\n",
    "import numpy as np\n",
    "\n",
    "# 生成一个简单的二分类数据集\n",
    "X, y = make_classification(n_samples=100, n_features=2, n_informative=2, n_redundant=0, n_clusters_per_class=1)\n",
    "\n",
    "# 将数据集分为训练集和测试集\n",
    "X_train, X_test, y_train, y_test = train_test_split(X, y, test_size=0.2, random_state=42)\n",
    "\n",
    "# 使用线性回归模型\n",
    "linear_regression = LinearRegression()\n",
    "linear_regression.fit(X_train, y_train)\n",
    "\n",
    "# 预测测试集的值\n",
    "y_pred = linear_regression.predict(X_test)\n",
    "\n",
    "# 将回归输出转换为二分类输出，这里使用0.5作为分类阈值\n",
    "y_pred_class = np.where(y_pred > 0.5, 1, 0)\n",
    "\n",
    "# 计算准确率\n",
    "accuracy = accuracy_score(y_test, y_pred_class)\n",
    "print(f'Accuracy: {accuracy}')\n"
   ]
  },
  {
   "cell_type": "markdown",
   "metadata": {},
   "source": []
  },
  {
   "cell_type": "markdown",
   "metadata": {},
   "source": []
  },
  {
   "cell_type": "markdown",
   "metadata": {},
   "source": [
    "<!-- z -->"
   ]
  }
 ],
 "metadata": {
  "kernelspec": {
   "display_name": "qiskit",
   "language": "python",
   "name": "python3"
  },
  "language_info": {
   "codemirror_mode": {
    "name": "ipython",
    "version": 3
   },
   "file_extension": ".py",
   "mimetype": "text/x-python",
   "name": "python",
   "nbconvert_exporter": "python",
   "pygments_lexer": "ipython3",
   "version": "3.11.7"
  }
 },
 "nbformat": 4,
 "nbformat_minor": 2
}
