{
 "cells": [
  {
   "cell_type": "code",
   "execution_count": 1,
   "metadata": {},
   "outputs": [
    {
     "name": "stderr",
     "output_type": "stream",
     "text": [
      "2024-03-31 00:06:30.866105: I external/local_tsl/tsl/cuda/cudart_stub.cc:31] Could not find cuda drivers on your machine, GPU will not be used.\n",
      "2024-03-31 00:06:31.351700: E external/local_xla/xla/stream_executor/cuda/cuda_dnn.cc:9261] Unable to register cuDNN factory: Attempting to register factory for plugin cuDNN when one has already been registered\n",
      "2024-03-31 00:06:31.351775: E external/local_xla/xla/stream_executor/cuda/cuda_fft.cc:607] Unable to register cuFFT factory: Attempting to register factory for plugin cuFFT when one has already been registered\n",
      "2024-03-31 00:06:31.436913: E external/local_xla/xla/stream_executor/cuda/cuda_blas.cc:1515] Unable to register cuBLAS factory: Attempting to register factory for plugin cuBLAS when one has already been registered\n",
      "2024-03-31 00:06:31.569367: I external/local_tsl/tsl/cuda/cudart_stub.cc:31] Could not find cuda drivers on your machine, GPU will not be used.\n",
      "2024-03-31 00:06:31.576081: I tensorflow/core/platform/cpu_feature_guard.cc:182] This TensorFlow binary is optimized to use available CPU instructions in performance-critical operations.\n",
      "To enable the following instructions: AVX2 FMA, in other operations, rebuild TensorFlow with the appropriate compiler flags.\n",
      "2024-03-31 00:06:35.343941: W tensorflow/compiler/tf2tensorrt/utils/py_utils.cc:38] TF-TRT Warning: Could not find TensorRT\n"
     ]
    }
   ],
   "source": [
    "import numpy as np\n",
    "import pandas as pd\n",
    "from  sklearn.model_selection import train_test_split\n",
    "from sklearn.preprocessing import OneHotEncoder\n",
    "from keras.models import Model\n",
    "from keras.layers import Input, Dense\n",
    "from keras.optimizers import Adam\n",
    "# import BatchNormalization\n",
    "from keras.layers import BatchNormalization\n",
    "from keras.layers import Dropout"
   ]
  },
  {
   "cell_type": "code",
   "execution_count": 2,
   "metadata": {},
   "outputs": [],
   "source": [
    "# Load data\n",
    "file_path = 'dataset.xlsx'\n",
    "data = pd.read_excel(file_path)\n",
    "data = data.astype({'x1': 'float', 'x2': 'float', 'x3': 'float', 'y1': 'category', 'y2': 'float'})\n"
   ]
  },
  {
   "cell_type": "code",
   "execution_count": 4,
   "metadata": {},
   "outputs": [
    {
     "name": "stdout",
     "output_type": "stream",
     "text": [
      "[-0.0700291  -0.1018302   0.01919956] 2 5.05797\n"
     ]
    }
   ],
   "source": [
    "# split\n",
    "X = data[['x1', 'x2', 'x3']].values\n",
    "Y_class = data['y1'].values\n",
    "Y_reg = data['y2'].values\n",
    "# print one line of data\n",
    "i= 180\n",
    "print(X[i], Y_class[i], Y_reg[i])"
   ]
  },
  {
   "cell_type": "code",
   "execution_count": 5,
   "metadata": {},
   "outputs": [],
   "source": [
    "# onehot encode the class labels\n",
    "encoder = OneHotEncoder(sparse_output=False)\n",
    "Y_class = encoder.fit_transform(Y_class.reshape(-1, 1))\n",
    "# Y_class = Y_class.toarray()\n"
   ]
  },
  {
   "cell_type": "code",
   "execution_count": 6,
   "metadata": {},
   "outputs": [
    {
     "name": "stdout",
     "output_type": "stream",
     "text": [
      "[0. 0. 1. 0. 0. 0. 0. 0.]\n",
      "[0. 0. 0. 0. 1. 0. 0. 0.]\n",
      "[1. 0. 0. 0. 0. 0. 0. 0.]\n",
      "[1. 0. 0. 0. 0. 0. 0. 0.]\n"
     ]
    }
   ],
   "source": [
    "print(Y_class[180])\n",
    "print(Y_class[280])\n",
    "print(Y_class[0])\n",
    "print(Y_class[1])"
   ]
  },
  {
   "cell_type": "code",
   "execution_count": 7,
   "metadata": {},
   "outputs": [],
   "source": [
    "X_train, X_test, Y_class_train, Y_class_test, Y_reg_train, Y_reg_test = train_test_split(X, Y_class, Y_reg, test_size=0.2, random_state=42)"
   ]
  },
  {
   "cell_type": "code",
   "execution_count": 8,
   "metadata": {},
   "outputs": [
    {
     "name": "stdout",
     "output_type": "stream",
     "text": [
      "(448, 3) (112, 3) (448, 8) (112, 8) (448,) (112,)\n"
     ]
    }
   ],
   "source": [
    "print(X_train.shape, X_test.shape, Y_class_train.shape, Y_class_test.shape, Y_reg_train.shape, Y_reg_test.shape)"
   ]
  },
  {
   "cell_type": "code",
   "execution_count": 8,
   "metadata": {},
   "outputs": [],
   "source": [
    "from nn_trainer import trainer_model"
   ]
  },
  {
   "cell_type": "code",
   "execution_count": 9,
   "metadata": {},
   "outputs": [],
   "source": [
    "# nn model\n",
    "# def create_model(input_dim, output_dim):\n",
    "#     initializer = keras.initializers.he_normal(seed=42)\n",
    "#     return trainer_model(\n",
    "#         layers=[\n",
    "#             Input(shape=(input_dim,)),\n",
    "#         ]\n",
    "#     )\n"
   ]
  },
  {
   "cell_type": "code",
   "execution_count": 9,
   "metadata": {},
   "outputs": [
    {
     "name": "stderr",
     "output_type": "stream",
     "text": [
      "2024-03-31 00:09:01.806724: I external/local_xla/xla/stream_executor/cuda/cuda_executor.cc:901] successful NUMA node read from SysFS had negative value (-1), but there must be at least one NUMA node, so returning NUMA node zero. See more at https://github.com/torvalds/linux/blob/v6.0/Documentation/ABI/testing/sysfs-bus-pci#L344-L355\n",
      "2024-03-31 00:09:01.812359: I external/local_xla/xla/stream_executor/cuda/cuda_executor.cc:901] successful NUMA node read from SysFS had negative value (-1), but there must be at least one NUMA node, so returning NUMA node zero. See more at https://github.com/torvalds/linux/blob/v6.0/Documentation/ABI/testing/sysfs-bus-pci#L344-L355\n",
      "2024-03-31 00:09:02.141204: W tensorflow/core/common_runtime/gpu/gpu_device.cc:2256] Cannot dlopen some GPU libraries. Please make sure the missing libraries mentioned above are installed properly if you would like to use GPU. Follow the guide at https://www.tensorflow.org/install/gpu for how to download and setup the required libraries for your platform.\n",
      "Skipping registering GPU devices...\n"
     ]
    }
   ],
   "source": [
    "input_layer = Input(shape=(3,))  \n",
    "\n",
    "hidden_layer_1 = Dense(1024, activation='relu')(input_layer)\n",
    "hidden_layer_1 = Dropout(0.3)(hidden_layer_1)\n",
    "hidden_layer_2 = Dense(512, activation='relu')(hidden_layer_1)\n",
    "hidden_layer_2 = BatchNormalization()(hidden_layer_2)\n",
    "hidden_layer_3 = Dense(2048, activation='elu')(hidden_layer_2)\n",
    "hidden_layer_3 = Dropout(0.3)(hidden_layer_3)\n",
    "\n",
    "\n",
    "class_output = Dense(8, activation='softmax', name='class_output')(hidden_layer_3)  \n",
    "reg_output = Dense(1, name='reg_output')(hidden_layer_3)  \n",
    "\n",
    "\n",
    "model = Model(inputs=input_layer, outputs=[class_output, reg_output])\n",
    "\n",
    "# add regularization to the model\n"
   ]
  },
  {
   "cell_type": "code",
   "execution_count": 10,
   "metadata": {},
   "outputs": [],
   "source": [
    "model.compile(optimizer=Adam(learning_rate=0.0005),\n",
    "              loss={'class_output': 'categorical_crossentropy', 'reg_output': 'mean_squared_error'},\n",
    "              metrics={'class_output': 'accuracy', 'reg_output': 'mean_squared_error'})\n"
   ]
  },
  {
   "cell_type": "code",
   "execution_count": 11,
   "metadata": {},
   "outputs": [
    {
     "name": "stdout",
     "output_type": "stream",
     "text": [
      "Epoch 1/100\n",
      "10/10 - 3s - loss: 22.0035 - class_output_loss: 2.0586 - reg_output_loss: 19.9450 - class_output_accuracy: 0.1374 - reg_output_mean_squared_error: 19.9450 - val_loss: 26.2267 - val_class_output_loss: 2.0687 - val_reg_output_loss: 24.1581 - val_class_output_accuracy: 0.2000 - val_reg_output_mean_squared_error: 24.1581 - 3s/epoch - 269ms/step\n",
      "Epoch 2/100\n",
      "10/10 - 0s - loss: 13.2246 - class_output_loss: 1.8851 - reg_output_loss: 11.3395 - class_output_accuracy: 0.2684 - reg_output_mean_squared_error: 11.3395 - val_loss: 22.0675 - val_class_output_loss: 2.0550 - val_reg_output_loss: 20.0125 - val_class_output_accuracy: 0.2593 - val_reg_output_mean_squared_error: 20.0125 - 155ms/epoch - 16ms/step\n",
      "Epoch 3/100\n",
      "10/10 - 0s - loss: 6.9954 - class_output_loss: 1.8370 - reg_output_loss: 5.1584 - class_output_accuracy: 0.2971 - reg_output_mean_squared_error: 5.1584 - val_loss: 19.8127 - val_class_output_loss: 2.0376 - val_reg_output_loss: 17.7751 - val_class_output_accuracy: 0.2593 - val_reg_output_mean_squared_error: 17.7751 - 177ms/epoch - 18ms/step\n",
      "Epoch 4/100\n",
      "10/10 - 0s - loss: 5.9638 - class_output_loss: 1.6731 - reg_output_loss: 4.2906 - class_output_accuracy: 0.3419 - reg_output_mean_squared_error: 4.2906 - val_loss: 18.7935 - val_class_output_loss: 2.0324 - val_reg_output_loss: 16.7611 - val_class_output_accuracy: 0.2667 - val_reg_output_mean_squared_error: 16.7611 - 211ms/epoch - 21ms/step\n",
      "Epoch 5/100\n",
      "10/10 - 0s - loss: 5.3878 - class_output_loss: 1.6331 - reg_output_loss: 3.7547 - class_output_accuracy: 0.3131 - reg_output_mean_squared_error: 3.7547 - val_loss: 17.7629 - val_class_output_loss: 2.0188 - val_reg_output_loss: 15.7442 - val_class_output_accuracy: 0.3037 - val_reg_output_mean_squared_error: 15.7442 - 135ms/epoch - 13ms/step\n",
      "Epoch 6/100\n",
      "10/10 - 0s - loss: 5.2382 - class_output_loss: 1.5408 - reg_output_loss: 3.6974 - class_output_accuracy: 0.3802 - reg_output_mean_squared_error: 3.6974 - val_loss: 16.4970 - val_class_output_loss: 2.0032 - val_reg_output_loss: 14.4938 - val_class_output_accuracy: 0.3111 - val_reg_output_mean_squared_error: 14.4938 - 211ms/epoch - 21ms/step\n",
      "Epoch 7/100\n",
      "10/10 - 0s - loss: 4.6152 - class_output_loss: 1.5708 - reg_output_loss: 3.0445 - class_output_accuracy: 0.3355 - reg_output_mean_squared_error: 3.0445 - val_loss: 15.1797 - val_class_output_loss: 1.9931 - val_reg_output_loss: 13.1866 - val_class_output_accuracy: 0.3333 - val_reg_output_mean_squared_error: 13.1866 - 216ms/epoch - 22ms/step\n",
      "Epoch 8/100\n",
      "10/10 - 0s - loss: 3.8465 - class_output_loss: 1.4966 - reg_output_loss: 2.3500 - class_output_accuracy: 0.4409 - reg_output_mean_squared_error: 2.3500 - val_loss: 14.4144 - val_class_output_loss: 1.9809 - val_reg_output_loss: 12.4334 - val_class_output_accuracy: 0.3333 - val_reg_output_mean_squared_error: 12.4334 - 218ms/epoch - 22ms/step\n",
      "Epoch 9/100\n",
      "10/10 - 0s - loss: 4.0171 - class_output_loss: 1.4280 - reg_output_loss: 2.5891 - class_output_accuracy: 0.3898 - reg_output_mean_squared_error: 2.5891 - val_loss: 13.9875 - val_class_output_loss: 1.9697 - val_reg_output_loss: 12.0177 - val_class_output_accuracy: 0.3407 - val_reg_output_mean_squared_error: 12.0177 - 214ms/epoch - 21ms/step\n",
      "Epoch 10/100\n",
      "10/10 - 0s - loss: 3.4766 - class_output_loss: 1.4229 - reg_output_loss: 2.0537 - class_output_accuracy: 0.3898 - reg_output_mean_squared_error: 2.0537 - val_loss: 12.8999 - val_class_output_loss: 1.9556 - val_reg_output_loss: 10.9443 - val_class_output_accuracy: 0.3556 - val_reg_output_mean_squared_error: 10.9443 - 159ms/epoch - 16ms/step\n",
      "Epoch 11/100\n",
      "10/10 - 0s - loss: 3.9809 - class_output_loss: 1.4089 - reg_output_loss: 2.5720 - class_output_accuracy: 0.3866 - reg_output_mean_squared_error: 2.5720 - val_loss: 12.2608 - val_class_output_loss: 1.9407 - val_reg_output_loss: 10.3202 - val_class_output_accuracy: 0.4296 - val_reg_output_mean_squared_error: 10.3202 - 161ms/epoch - 16ms/step\n",
      "Epoch 12/100\n",
      "10/10 - 0s - loss: 3.9071 - class_output_loss: 1.4027 - reg_output_loss: 2.5044 - class_output_accuracy: 0.4089 - reg_output_mean_squared_error: 2.5044 - val_loss: 11.6403 - val_class_output_loss: 1.9273 - val_reg_output_loss: 9.7130 - val_class_output_accuracy: 0.3778 - val_reg_output_mean_squared_error: 9.7130 - 187ms/epoch - 19ms/step\n",
      "Epoch 13/100\n",
      "10/10 - 0s - loss: 3.4555 - class_output_loss: 1.3652 - reg_output_loss: 2.0904 - class_output_accuracy: 0.4313 - reg_output_mean_squared_error: 2.0904 - val_loss: 10.4007 - val_class_output_loss: 1.9149 - val_reg_output_loss: 8.4858 - val_class_output_accuracy: 0.3778 - val_reg_output_mean_squared_error: 8.4858 - 211ms/epoch - 21ms/step\n",
      "Epoch 14/100\n",
      "10/10 - 0s - loss: 3.5127 - class_output_loss: 1.3672 - reg_output_loss: 2.1455 - class_output_accuracy: 0.3834 - reg_output_mean_squared_error: 2.1455 - val_loss: 10.2830 - val_class_output_loss: 1.9044 - val_reg_output_loss: 8.3785 - val_class_output_accuracy: 0.4074 - val_reg_output_mean_squared_error: 8.3785 - 169ms/epoch - 17ms/step\n",
      "Epoch 15/100\n",
      "10/10 - 0s - loss: 3.4508 - class_output_loss: 1.4123 - reg_output_loss: 2.0385 - class_output_accuracy: 0.3930 - reg_output_mean_squared_error: 2.0385 - val_loss: 9.8377 - val_class_output_loss: 1.8943 - val_reg_output_loss: 7.9434 - val_class_output_accuracy: 0.4074 - val_reg_output_mean_squared_error: 7.9434 - 202ms/epoch - 20ms/step\n",
      "Epoch 16/100\n",
      "10/10 - 0s - loss: 3.0757 - class_output_loss: 1.3249 - reg_output_loss: 1.7508 - class_output_accuracy: 0.4441 - reg_output_mean_squared_error: 1.7508 - val_loss: 9.3043 - val_class_output_loss: 1.8771 - val_reg_output_loss: 7.4273 - val_class_output_accuracy: 0.4148 - val_reg_output_mean_squared_error: 7.4273 - 155ms/epoch - 16ms/step\n",
      "Epoch 17/100\n",
      "10/10 - 0s - loss: 3.1505 - class_output_loss: 1.2951 - reg_output_loss: 1.8554 - class_output_accuracy: 0.4569 - reg_output_mean_squared_error: 1.8554 - val_loss: 8.7682 - val_class_output_loss: 1.8656 - val_reg_output_loss: 6.9026 - val_class_output_accuracy: 0.4000 - val_reg_output_mean_squared_error: 6.9026 - 211ms/epoch - 21ms/step\n",
      "Epoch 18/100\n",
      "10/10 - 0s - loss: 3.3182 - class_output_loss: 1.3355 - reg_output_loss: 1.9827 - class_output_accuracy: 0.4281 - reg_output_mean_squared_error: 1.9827 - val_loss: 8.7593 - val_class_output_loss: 1.8595 - val_reg_output_loss: 6.8998 - val_class_output_accuracy: 0.3926 - val_reg_output_mean_squared_error: 6.8998 - 198ms/epoch - 20ms/step\n",
      "Epoch 19/100\n",
      "10/10 - 0s - loss: 2.8453 - class_output_loss: 1.2534 - reg_output_loss: 1.5919 - class_output_accuracy: 0.4377 - reg_output_mean_squared_error: 1.5919 - val_loss: 8.0975 - val_class_output_loss: 1.8445 - val_reg_output_loss: 6.2530 - val_class_output_accuracy: 0.3630 - val_reg_output_mean_squared_error: 6.2530 - 201ms/epoch - 20ms/step\n",
      "Epoch 20/100\n",
      "10/10 - 0s - loss: 2.8097 - class_output_loss: 1.3540 - reg_output_loss: 1.4557 - class_output_accuracy: 0.4153 - reg_output_mean_squared_error: 1.4557 - val_loss: 7.7246 - val_class_output_loss: 1.8253 - val_reg_output_loss: 5.8993 - val_class_output_accuracy: 0.4444 - val_reg_output_mean_squared_error: 5.8993 - 158ms/epoch - 16ms/step\n",
      "Epoch 21/100\n",
      "10/10 - 0s - loss: 2.8198 - class_output_loss: 1.2561 - reg_output_loss: 1.5637 - class_output_accuracy: 0.4760 - reg_output_mean_squared_error: 1.5637 - val_loss: 7.4260 - val_class_output_loss: 1.8161 - val_reg_output_loss: 5.6098 - val_class_output_accuracy: 0.4296 - val_reg_output_mean_squared_error: 5.6098 - 163ms/epoch - 16ms/step\n",
      "Epoch 22/100\n",
      "10/10 - 0s - loss: 2.8769 - class_output_loss: 1.2434 - reg_output_loss: 1.6335 - class_output_accuracy: 0.4856 - reg_output_mean_squared_error: 1.6335 - val_loss: 7.4130 - val_class_output_loss: 1.8027 - val_reg_output_loss: 5.6103 - val_class_output_accuracy: 0.4074 - val_reg_output_mean_squared_error: 5.6103 - 127ms/epoch - 13ms/step\n",
      "Epoch 23/100\n",
      "10/10 - 0s - loss: 2.7641 - class_output_loss: 1.2278 - reg_output_loss: 1.5363 - class_output_accuracy: 0.4505 - reg_output_mean_squared_error: 1.5363 - val_loss: 7.0678 - val_class_output_loss: 1.7834 - val_reg_output_loss: 5.2844 - val_class_output_accuracy: 0.4593 - val_reg_output_mean_squared_error: 5.2844 - 122ms/epoch - 12ms/step\n",
      "Epoch 24/100\n",
      "10/10 - 0s - loss: 2.6744 - class_output_loss: 1.2044 - reg_output_loss: 1.4700 - class_output_accuracy: 0.4441 - reg_output_mean_squared_error: 1.4700 - val_loss: 6.6842 - val_class_output_loss: 1.7579 - val_reg_output_loss: 4.9263 - val_class_output_accuracy: 0.4519 - val_reg_output_mean_squared_error: 4.9263 - 175ms/epoch - 17ms/step\n",
      "Epoch 25/100\n",
      "10/10 - 0s - loss: 2.7742 - class_output_loss: 1.2377 - reg_output_loss: 1.5364 - class_output_accuracy: 0.4792 - reg_output_mean_squared_error: 1.5364 - val_loss: 6.6044 - val_class_output_loss: 1.7420 - val_reg_output_loss: 4.8624 - val_class_output_accuracy: 0.4222 - val_reg_output_mean_squared_error: 4.8624 - 146ms/epoch - 15ms/step\n",
      "Epoch 26/100\n",
      "10/10 - 0s - loss: 2.6669 - class_output_loss: 1.2245 - reg_output_loss: 1.4424 - class_output_accuracy: 0.4760 - reg_output_mean_squared_error: 1.4424 - val_loss: 6.7126 - val_class_output_loss: 1.7367 - val_reg_output_loss: 4.9759 - val_class_output_accuracy: 0.4519 - val_reg_output_mean_squared_error: 4.9759 - 127ms/epoch - 13ms/step\n",
      "Epoch 27/100\n",
      "10/10 - 0s - loss: 2.7152 - class_output_loss: 1.2224 - reg_output_loss: 1.4928 - class_output_accuracy: 0.4505 - reg_output_mean_squared_error: 1.4928 - val_loss: 6.2090 - val_class_output_loss: 1.7199 - val_reg_output_loss: 4.4891 - val_class_output_accuracy: 0.4889 - val_reg_output_mean_squared_error: 4.4891 - 140ms/epoch - 14ms/step\n",
      "Epoch 28/100\n",
      "10/10 - 0s - loss: 2.5966 - class_output_loss: 1.2702 - reg_output_loss: 1.3264 - class_output_accuracy: 0.4537 - reg_output_mean_squared_error: 1.3264 - val_loss: 6.1775 - val_class_output_loss: 1.7013 - val_reg_output_loss: 4.4762 - val_class_output_accuracy: 0.3704 - val_reg_output_mean_squared_error: 4.4762 - 129ms/epoch - 13ms/step\n",
      "Epoch 29/100\n",
      "10/10 - 0s - loss: 2.7327 - class_output_loss: 1.1734 - reg_output_loss: 1.5593 - class_output_accuracy: 0.4665 - reg_output_mean_squared_error: 1.5593 - val_loss: 5.9528 - val_class_output_loss: 1.6784 - val_reg_output_loss: 4.2744 - val_class_output_accuracy: 0.3852 - val_reg_output_mean_squared_error: 4.2744 - 161ms/epoch - 16ms/step\n",
      "Epoch 30/100\n",
      "10/10 - 0s - loss: 2.6130 - class_output_loss: 1.1584 - reg_output_loss: 1.4546 - class_output_accuracy: 0.5080 - reg_output_mean_squared_error: 1.4546 - val_loss: 5.9310 - val_class_output_loss: 1.6648 - val_reg_output_loss: 4.2662 - val_class_output_accuracy: 0.4074 - val_reg_output_mean_squared_error: 4.2662 - 201ms/epoch - 20ms/step\n",
      "Epoch 31/100\n",
      "10/10 - 0s - loss: 2.4568 - class_output_loss: 1.1811 - reg_output_loss: 1.2757 - class_output_accuracy: 0.4409 - reg_output_mean_squared_error: 1.2757 - val_loss: 5.9097 - val_class_output_loss: 1.6430 - val_reg_output_loss: 4.2667 - val_class_output_accuracy: 0.4000 - val_reg_output_mean_squared_error: 4.2667 - 162ms/epoch - 16ms/step\n",
      "Epoch 32/100\n",
      "10/10 - 0s - loss: 2.5656 - class_output_loss: 1.2236 - reg_output_loss: 1.3420 - class_output_accuracy: 0.4377 - reg_output_mean_squared_error: 1.3420 - val_loss: 5.6395 - val_class_output_loss: 1.6252 - val_reg_output_loss: 4.0143 - val_class_output_accuracy: 0.4074 - val_reg_output_mean_squared_error: 4.0143 - 224ms/epoch - 22ms/step\n",
      "Epoch 33/100\n",
      "10/10 - 0s - loss: 2.7733 - class_output_loss: 1.2499 - reg_output_loss: 1.5234 - class_output_accuracy: 0.4409 - reg_output_mean_squared_error: 1.5234 - val_loss: 5.6077 - val_class_output_loss: 1.6086 - val_reg_output_loss: 3.9991 - val_class_output_accuracy: 0.3926 - val_reg_output_mean_squared_error: 3.9991 - 234ms/epoch - 23ms/step\n",
      "Epoch 34/100\n",
      "10/10 - 0s - loss: 2.8225 - class_output_loss: 1.1732 - reg_output_loss: 1.6493 - class_output_accuracy: 0.4633 - reg_output_mean_squared_error: 1.6493 - val_loss: 5.3941 - val_class_output_loss: 1.5909 - val_reg_output_loss: 3.8033 - val_class_output_accuracy: 0.4593 - val_reg_output_mean_squared_error: 3.8033 - 228ms/epoch - 23ms/step\n",
      "Epoch 35/100\n",
      "10/10 - 0s - loss: 2.5070 - class_output_loss: 1.1457 - reg_output_loss: 1.3613 - class_output_accuracy: 0.4920 - reg_output_mean_squared_error: 1.3613 - val_loss: 5.3576 - val_class_output_loss: 1.5735 - val_reg_output_loss: 3.7841 - val_class_output_accuracy: 0.4222 - val_reg_output_mean_squared_error: 3.7841 - 171ms/epoch - 17ms/step\n",
      "Epoch 36/100\n",
      "10/10 - 0s - loss: 2.5098 - class_output_loss: 1.2071 - reg_output_loss: 1.3027 - class_output_accuracy: 0.4665 - reg_output_mean_squared_error: 1.3027 - val_loss: 5.0769 - val_class_output_loss: 1.5482 - val_reg_output_loss: 3.5287 - val_class_output_accuracy: 0.4222 - val_reg_output_mean_squared_error: 3.5287 - 171ms/epoch - 17ms/step\n",
      "Epoch 37/100\n",
      "10/10 - 0s - loss: 2.3465 - class_output_loss: 1.1517 - reg_output_loss: 1.1948 - class_output_accuracy: 0.4984 - reg_output_mean_squared_error: 1.1948 - val_loss: 5.1458 - val_class_output_loss: 1.5308 - val_reg_output_loss: 3.6149 - val_class_output_accuracy: 0.4148 - val_reg_output_mean_squared_error: 3.6149 - 142ms/epoch - 14ms/step\n",
      "Epoch 38/100\n",
      "10/10 - 0s - loss: 2.6541 - class_output_loss: 1.1587 - reg_output_loss: 1.4955 - class_output_accuracy: 0.5080 - reg_output_mean_squared_error: 1.4955 - val_loss: 5.0899 - val_class_output_loss: 1.5260 - val_reg_output_loss: 3.5639 - val_class_output_accuracy: 0.4074 - val_reg_output_mean_squared_error: 3.5639 - 154ms/epoch - 15ms/step\n",
      "Epoch 39/100\n",
      "10/10 - 0s - loss: 2.3481 - class_output_loss: 1.1630 - reg_output_loss: 1.1851 - class_output_accuracy: 0.4696 - reg_output_mean_squared_error: 1.1851 - val_loss: 4.5198 - val_class_output_loss: 1.4983 - val_reg_output_loss: 3.0215 - val_class_output_accuracy: 0.3704 - val_reg_output_mean_squared_error: 3.0215 - 144ms/epoch - 14ms/step\n",
      "Epoch 40/100\n",
      "10/10 - 0s - loss: 2.5607 - class_output_loss: 1.2412 - reg_output_loss: 1.3194 - class_output_accuracy: 0.4441 - reg_output_mean_squared_error: 1.3194 - val_loss: 4.6722 - val_class_output_loss: 1.4870 - val_reg_output_loss: 3.1852 - val_class_output_accuracy: 0.4222 - val_reg_output_mean_squared_error: 3.1852 - 164ms/epoch - 16ms/step\n",
      "Epoch 41/100\n",
      "10/10 - 0s - loss: 2.3150 - class_output_loss: 1.1340 - reg_output_loss: 1.1810 - class_output_accuracy: 0.5048 - reg_output_mean_squared_error: 1.1810 - val_loss: 4.5223 - val_class_output_loss: 1.4652 - val_reg_output_loss: 3.0571 - val_class_output_accuracy: 0.4444 - val_reg_output_mean_squared_error: 3.0571 - 130ms/epoch - 13ms/step\n",
      "Epoch 42/100\n",
      "10/10 - 0s - loss: 2.4990 - class_output_loss: 1.1730 - reg_output_loss: 1.3260 - class_output_accuracy: 0.4409 - reg_output_mean_squared_error: 1.3260 - val_loss: 4.5289 - val_class_output_loss: 1.4484 - val_reg_output_loss: 3.0805 - val_class_output_accuracy: 0.4148 - val_reg_output_mean_squared_error: 3.0805 - 161ms/epoch - 16ms/step\n",
      "Epoch 43/100\n",
      "10/10 - 0s - loss: 2.3011 - class_output_loss: 1.1218 - reg_output_loss: 1.1793 - class_output_accuracy: 0.4984 - reg_output_mean_squared_error: 1.1793 - val_loss: 4.3590 - val_class_output_loss: 1.4256 - val_reg_output_loss: 2.9334 - val_class_output_accuracy: 0.4296 - val_reg_output_mean_squared_error: 2.9334 - 128ms/epoch - 13ms/step\n",
      "Epoch 44/100\n",
      "10/10 - 0s - loss: 2.3923 - class_output_loss: 1.0896 - reg_output_loss: 1.3026 - class_output_accuracy: 0.5240 - reg_output_mean_squared_error: 1.3026 - val_loss: 4.4672 - val_class_output_loss: 1.4175 - val_reg_output_loss: 3.0497 - val_class_output_accuracy: 0.4000 - val_reg_output_mean_squared_error: 3.0497 - 154ms/epoch - 15ms/step\n",
      "Epoch 45/100\n",
      "10/10 - 0s - loss: 2.4044 - class_output_loss: 1.1287 - reg_output_loss: 1.2757 - class_output_accuracy: 0.4888 - reg_output_mean_squared_error: 1.2757 - val_loss: 4.2742 - val_class_output_loss: 1.3953 - val_reg_output_loss: 2.8789 - val_class_output_accuracy: 0.4296 - val_reg_output_mean_squared_error: 2.8789 - 156ms/epoch - 16ms/step\n",
      "Epoch 46/100\n",
      "10/10 - 0s - loss: 2.3336 - class_output_loss: 1.0995 - reg_output_loss: 1.2341 - class_output_accuracy: 0.4760 - reg_output_mean_squared_error: 1.2341 - val_loss: 3.9513 - val_class_output_loss: 1.3650 - val_reg_output_loss: 2.5863 - val_class_output_accuracy: 0.4000 - val_reg_output_mean_squared_error: 2.5863 - 178ms/epoch - 18ms/step\n",
      "Epoch 47/100\n",
      "10/10 - 0s - loss: 2.3526 - class_output_loss: 1.1223 - reg_output_loss: 1.2304 - class_output_accuracy: 0.4601 - reg_output_mean_squared_error: 1.2304 - val_loss: 4.2252 - val_class_output_loss: 1.3629 - val_reg_output_loss: 2.8623 - val_class_output_accuracy: 0.4148 - val_reg_output_mean_squared_error: 2.8623 - 145ms/epoch - 14ms/step\n",
      "Epoch 48/100\n",
      "10/10 - 0s - loss: 2.4781 - class_output_loss: 1.1182 - reg_output_loss: 1.3599 - class_output_accuracy: 0.4824 - reg_output_mean_squared_error: 1.3599 - val_loss: 4.0569 - val_class_output_loss: 1.3539 - val_reg_output_loss: 2.7030 - val_class_output_accuracy: 0.4074 - val_reg_output_mean_squared_error: 2.7030 - 151ms/epoch - 15ms/step\n",
      "Epoch 49/100\n",
      "10/10 - 0s - loss: 2.2740 - class_output_loss: 1.1047 - reg_output_loss: 1.1693 - class_output_accuracy: 0.4569 - reg_output_mean_squared_error: 1.1693 - val_loss: 3.8682 - val_class_output_loss: 1.3542 - val_reg_output_loss: 2.5140 - val_class_output_accuracy: 0.3704 - val_reg_output_mean_squared_error: 2.5140 - 277ms/epoch - 28ms/step\n",
      "Epoch 50/100\n",
      "10/10 - 0s - loss: 2.2841 - class_output_loss: 1.0824 - reg_output_loss: 1.2017 - class_output_accuracy: 0.5176 - reg_output_mean_squared_error: 1.2017 - val_loss: 3.7111 - val_class_output_loss: 1.3082 - val_reg_output_loss: 2.4029 - val_class_output_accuracy: 0.4222 - val_reg_output_mean_squared_error: 2.4029 - 206ms/epoch - 21ms/step\n",
      "Epoch 51/100\n",
      "10/10 - 0s - loss: 2.2142 - class_output_loss: 1.0621 - reg_output_loss: 1.1521 - class_output_accuracy: 0.5335 - reg_output_mean_squared_error: 1.1521 - val_loss: 3.5724 - val_class_output_loss: 1.2932 - val_reg_output_loss: 2.2792 - val_class_output_accuracy: 0.4148 - val_reg_output_mean_squared_error: 2.2792 - 195ms/epoch - 19ms/step\n",
      "Epoch 52/100\n",
      "10/10 - 0s - loss: 2.1754 - class_output_loss: 1.0813 - reg_output_loss: 1.0941 - class_output_accuracy: 0.5112 - reg_output_mean_squared_error: 1.0941 - val_loss: 3.7696 - val_class_output_loss: 1.2913 - val_reg_output_loss: 2.4783 - val_class_output_accuracy: 0.4074 - val_reg_output_mean_squared_error: 2.4783 - 152ms/epoch - 15ms/step\n",
      "Epoch 53/100\n",
      "10/10 - 0s - loss: 2.1742 - class_output_loss: 1.0859 - reg_output_loss: 1.0883 - class_output_accuracy: 0.4920 - reg_output_mean_squared_error: 1.0883 - val_loss: 3.3488 - val_class_output_loss: 1.2716 - val_reg_output_loss: 2.0772 - val_class_output_accuracy: 0.3852 - val_reg_output_mean_squared_error: 2.0772 - 185ms/epoch - 18ms/step\n",
      "Epoch 54/100\n",
      "10/10 - 0s - loss: 2.1470 - class_output_loss: 1.0131 - reg_output_loss: 1.1339 - class_output_accuracy: 0.5559 - reg_output_mean_squared_error: 1.1339 - val_loss: 3.6654 - val_class_output_loss: 1.2688 - val_reg_output_loss: 2.3966 - val_class_output_accuracy: 0.4074 - val_reg_output_mean_squared_error: 2.3966 - 168ms/epoch - 17ms/step\n",
      "Epoch 55/100\n",
      "10/10 - 0s - loss: 2.2928 - class_output_loss: 1.0842 - reg_output_loss: 1.2086 - class_output_accuracy: 0.5144 - reg_output_mean_squared_error: 1.2086 - val_loss: 3.2440 - val_class_output_loss: 1.2596 - val_reg_output_loss: 1.9843 - val_class_output_accuracy: 0.3852 - val_reg_output_mean_squared_error: 1.9843 - 190ms/epoch - 19ms/step\n",
      "Epoch 56/100\n",
      "10/10 - 0s - loss: 2.3030 - class_output_loss: 1.0835 - reg_output_loss: 1.2195 - class_output_accuracy: 0.4984 - reg_output_mean_squared_error: 1.2195 - val_loss: 3.3454 - val_class_output_loss: 1.2400 - val_reg_output_loss: 2.1054 - val_class_output_accuracy: 0.4222 - val_reg_output_mean_squared_error: 2.1054 - 179ms/epoch - 18ms/step\n",
      "Epoch 57/100\n",
      "10/10 - 0s - loss: 2.2863 - class_output_loss: 1.0542 - reg_output_loss: 1.2321 - class_output_accuracy: 0.5016 - reg_output_mean_squared_error: 1.2321 - val_loss: 3.2281 - val_class_output_loss: 1.2290 - val_reg_output_loss: 1.9991 - val_class_output_accuracy: 0.3778 - val_reg_output_mean_squared_error: 1.9991 - 208ms/epoch - 21ms/step\n",
      "Epoch 58/100\n",
      "10/10 - 0s - loss: 2.2018 - class_output_loss: 1.0488 - reg_output_loss: 1.1531 - class_output_accuracy: 0.5048 - reg_output_mean_squared_error: 1.1531 - val_loss: 3.1413 - val_class_output_loss: 1.2251 - val_reg_output_loss: 1.9162 - val_class_output_accuracy: 0.4148 - val_reg_output_mean_squared_error: 1.9162 - 208ms/epoch - 21ms/step\n",
      "Epoch 59/100\n",
      "10/10 - 0s - loss: 2.1829 - class_output_loss: 1.0537 - reg_output_loss: 1.1292 - class_output_accuracy: 0.5272 - reg_output_mean_squared_error: 1.1292 - val_loss: 2.8915 - val_class_output_loss: 1.2051 - val_reg_output_loss: 1.6864 - val_class_output_accuracy: 0.4296 - val_reg_output_mean_squared_error: 1.6864 - 195ms/epoch - 20ms/step\n",
      "Epoch 60/100\n",
      "10/10 - 0s - loss: 2.2373 - class_output_loss: 1.0772 - reg_output_loss: 1.1601 - class_output_accuracy: 0.4984 - reg_output_mean_squared_error: 1.1601 - val_loss: 2.9512 - val_class_output_loss: 1.1958 - val_reg_output_loss: 1.7554 - val_class_output_accuracy: 0.4370 - val_reg_output_mean_squared_error: 1.7554 - 176ms/epoch - 18ms/step\n",
      "Epoch 61/100\n",
      "10/10 - 0s - loss: 2.0968 - class_output_loss: 1.0242 - reg_output_loss: 1.0726 - class_output_accuracy: 0.5144 - reg_output_mean_squared_error: 1.0726 - val_loss: 2.9398 - val_class_output_loss: 1.2175 - val_reg_output_loss: 1.7223 - val_class_output_accuracy: 0.4222 - val_reg_output_mean_squared_error: 1.7223 - 154ms/epoch - 15ms/step\n",
      "Epoch 62/100\n",
      "10/10 - 0s - loss: 2.2265 - class_output_loss: 1.0308 - reg_output_loss: 1.1956 - class_output_accuracy: 0.5208 - reg_output_mean_squared_error: 1.1956 - val_loss: 2.8019 - val_class_output_loss: 1.1838 - val_reg_output_loss: 1.6181 - val_class_output_accuracy: 0.4000 - val_reg_output_mean_squared_error: 1.6181 - 227ms/epoch - 23ms/step\n",
      "Epoch 63/100\n",
      "10/10 - 0s - loss: 2.1174 - class_output_loss: 1.0029 - reg_output_loss: 1.1145 - class_output_accuracy: 0.5655 - reg_output_mean_squared_error: 1.1145 - val_loss: 2.7190 - val_class_output_loss: 1.1764 - val_reg_output_loss: 1.5426 - val_class_output_accuracy: 0.3778 - val_reg_output_mean_squared_error: 1.5426 - 190ms/epoch - 19ms/step\n",
      "Epoch 64/100\n",
      "10/10 - 0s - loss: 2.0327 - class_output_loss: 1.0018 - reg_output_loss: 1.0309 - class_output_accuracy: 0.5304 - reg_output_mean_squared_error: 1.0309 - val_loss: 2.7286 - val_class_output_loss: 1.1729 - val_reg_output_loss: 1.5557 - val_class_output_accuracy: 0.4296 - val_reg_output_mean_squared_error: 1.5557 - 157ms/epoch - 16ms/step\n",
      "Epoch 65/100\n",
      "10/10 - 0s - loss: 1.9854 - class_output_loss: 1.0028 - reg_output_loss: 0.9826 - class_output_accuracy: 0.5304 - reg_output_mean_squared_error: 0.9826 - val_loss: 2.5788 - val_class_output_loss: 1.1792 - val_reg_output_loss: 1.3996 - val_class_output_accuracy: 0.4000 - val_reg_output_mean_squared_error: 1.3996 - 181ms/epoch - 18ms/step\n",
      "Epoch 66/100\n",
      "10/10 - 0s - loss: 2.1288 - class_output_loss: 1.0142 - reg_output_loss: 1.1146 - class_output_accuracy: 0.5080 - reg_output_mean_squared_error: 1.1146 - val_loss: 2.6741 - val_class_output_loss: 1.1668 - val_reg_output_loss: 1.5073 - val_class_output_accuracy: 0.3704 - val_reg_output_mean_squared_error: 1.5073 - 172ms/epoch - 17ms/step\n",
      "Epoch 67/100\n",
      "10/10 - 0s - loss: 2.1002 - class_output_loss: 1.0233 - reg_output_loss: 1.0768 - class_output_accuracy: 0.5176 - reg_output_mean_squared_error: 1.0768 - val_loss: 2.4488 - val_class_output_loss: 1.1581 - val_reg_output_loss: 1.2908 - val_class_output_accuracy: 0.4000 - val_reg_output_mean_squared_error: 1.2908 - 260ms/epoch - 26ms/step\n",
      "Epoch 68/100\n",
      "10/10 - 0s - loss: 2.0075 - class_output_loss: 0.9801 - reg_output_loss: 1.0274 - class_output_accuracy: 0.5335 - reg_output_mean_squared_error: 1.0274 - val_loss: 2.4745 - val_class_output_loss: 1.1656 - val_reg_output_loss: 1.3089 - val_class_output_accuracy: 0.3926 - val_reg_output_mean_squared_error: 1.3089 - 193ms/epoch - 19ms/step\n",
      "Epoch 69/100\n",
      "10/10 - 0s - loss: 2.0834 - class_output_loss: 1.0629 - reg_output_loss: 1.0206 - class_output_accuracy: 0.5208 - reg_output_mean_squared_error: 1.0206 - val_loss: 2.5276 - val_class_output_loss: 1.2127 - val_reg_output_loss: 1.3150 - val_class_output_accuracy: 0.3556 - val_reg_output_mean_squared_error: 1.3150 - 150ms/epoch - 15ms/step\n",
      "Epoch 70/100\n",
      "10/10 - 0s - loss: 2.0026 - class_output_loss: 0.9866 - reg_output_loss: 1.0160 - class_output_accuracy: 0.5144 - reg_output_mean_squared_error: 1.0160 - val_loss: 2.4392 - val_class_output_loss: 1.1695 - val_reg_output_loss: 1.2697 - val_class_output_accuracy: 0.3778 - val_reg_output_mean_squared_error: 1.2697 - 151ms/epoch - 15ms/step\n",
      "Epoch 71/100\n",
      "10/10 - 0s - loss: 2.1294 - class_output_loss: 1.0325 - reg_output_loss: 1.0969 - class_output_accuracy: 0.5399 - reg_output_mean_squared_error: 1.0969 - val_loss: 2.5827 - val_class_output_loss: 1.1893 - val_reg_output_loss: 1.3935 - val_class_output_accuracy: 0.4296 - val_reg_output_mean_squared_error: 1.3935 - 220ms/epoch - 22ms/step\n",
      "Epoch 72/100\n",
      "10/10 - 0s - loss: 2.0878 - class_output_loss: 0.9822 - reg_output_loss: 1.1056 - class_output_accuracy: 0.5591 - reg_output_mean_squared_error: 1.1056 - val_loss: 2.4277 - val_class_output_loss: 1.1919 - val_reg_output_loss: 1.2358 - val_class_output_accuracy: 0.3926 - val_reg_output_mean_squared_error: 1.2358 - 205ms/epoch - 20ms/step\n",
      "Epoch 73/100\n",
      "10/10 - 0s - loss: 2.1528 - class_output_loss: 0.9760 - reg_output_loss: 1.1767 - class_output_accuracy: 0.5335 - reg_output_mean_squared_error: 1.1767 - val_loss: 2.5195 - val_class_output_loss: 1.1796 - val_reg_output_loss: 1.3399 - val_class_output_accuracy: 0.3630 - val_reg_output_mean_squared_error: 1.3399 - 214ms/epoch - 21ms/step\n",
      "Epoch 74/100\n",
      "10/10 - 0s - loss: 2.0131 - class_output_loss: 0.9776 - reg_output_loss: 1.0355 - class_output_accuracy: 0.5527 - reg_output_mean_squared_error: 1.0355 - val_loss: 2.4134 - val_class_output_loss: 1.1525 - val_reg_output_loss: 1.2609 - val_class_output_accuracy: 0.4148 - val_reg_output_mean_squared_error: 1.2609 - 221ms/epoch - 22ms/step\n",
      "Epoch 75/100\n",
      "10/10 - 0s - loss: 2.1296 - class_output_loss: 1.0127 - reg_output_loss: 1.1168 - class_output_accuracy: 0.5495 - reg_output_mean_squared_error: 1.1168 - val_loss: 2.4265 - val_class_output_loss: 1.1486 - val_reg_output_loss: 1.2779 - val_class_output_accuracy: 0.3556 - val_reg_output_mean_squared_error: 1.2779 - 226ms/epoch - 23ms/step\n",
      "Epoch 76/100\n",
      "10/10 - 0s - loss: 2.0837 - class_output_loss: 0.9944 - reg_output_loss: 1.0893 - class_output_accuracy: 0.5399 - reg_output_mean_squared_error: 1.0893 - val_loss: 2.3190 - val_class_output_loss: 1.1671 - val_reg_output_loss: 1.1519 - val_class_output_accuracy: 0.3926 - val_reg_output_mean_squared_error: 1.1519 - 216ms/epoch - 22ms/step\n",
      "Epoch 77/100\n",
      "10/10 - 0s - loss: 2.1193 - class_output_loss: 0.9474 - reg_output_loss: 1.1719 - class_output_accuracy: 0.5527 - reg_output_mean_squared_error: 1.1719 - val_loss: 2.3429 - val_class_output_loss: 1.1858 - val_reg_output_loss: 1.1572 - val_class_output_accuracy: 0.3704 - val_reg_output_mean_squared_error: 1.1572 - 254ms/epoch - 25ms/step\n",
      "Epoch 78/100\n",
      "10/10 - 0s - loss: 2.0617 - class_output_loss: 1.0140 - reg_output_loss: 1.0476 - class_output_accuracy: 0.5335 - reg_output_mean_squared_error: 1.0476 - val_loss: 2.3675 - val_class_output_loss: 1.2100 - val_reg_output_loss: 1.1576 - val_class_output_accuracy: 0.3926 - val_reg_output_mean_squared_error: 1.1576 - 193ms/epoch - 19ms/step\n",
      "Epoch 79/100\n",
      "10/10 - 0s - loss: 2.0826 - class_output_loss: 1.0083 - reg_output_loss: 1.0743 - class_output_accuracy: 0.5144 - reg_output_mean_squared_error: 1.0743 - val_loss: 2.4554 - val_class_output_loss: 1.2011 - val_reg_output_loss: 1.2543 - val_class_output_accuracy: 0.3704 - val_reg_output_mean_squared_error: 1.2543 - 245ms/epoch - 24ms/step\n",
      "Epoch 80/100\n",
      "10/10 - 0s - loss: 1.9973 - class_output_loss: 0.9714 - reg_output_loss: 1.0259 - class_output_accuracy: 0.5240 - reg_output_mean_squared_error: 1.0259 - val_loss: 2.3025 - val_class_output_loss: 1.2099 - val_reg_output_loss: 1.0926 - val_class_output_accuracy: 0.3556 - val_reg_output_mean_squared_error: 1.0926 - 216ms/epoch - 22ms/step\n",
      "Epoch 81/100\n",
      "10/10 - 0s - loss: 2.2615 - class_output_loss: 1.0523 - reg_output_loss: 1.2092 - class_output_accuracy: 0.5112 - reg_output_mean_squared_error: 1.2092 - val_loss: 2.4085 - val_class_output_loss: 1.1853 - val_reg_output_loss: 1.2232 - val_class_output_accuracy: 0.3926 - val_reg_output_mean_squared_error: 1.2232 - 252ms/epoch - 25ms/step\n",
      "Epoch 82/100\n",
      "10/10 - 0s - loss: 1.9553 - class_output_loss: 1.0044 - reg_output_loss: 0.9509 - class_output_accuracy: 0.5208 - reg_output_mean_squared_error: 0.9509 - val_loss: 2.2087 - val_class_output_loss: 1.1876 - val_reg_output_loss: 1.0211 - val_class_output_accuracy: 0.3778 - val_reg_output_mean_squared_error: 1.0211 - 263ms/epoch - 26ms/step\n",
      "Epoch 83/100\n",
      "10/10 - 0s - loss: 1.9665 - class_output_loss: 0.9731 - reg_output_loss: 0.9934 - class_output_accuracy: 0.5655 - reg_output_mean_squared_error: 0.9934 - val_loss: 2.3950 - val_class_output_loss: 1.2028 - val_reg_output_loss: 1.1922 - val_class_output_accuracy: 0.3704 - val_reg_output_mean_squared_error: 1.1922 - 196ms/epoch - 20ms/step\n",
      "Epoch 84/100\n",
      "10/10 - 0s - loss: 1.9869 - class_output_loss: 0.9412 - reg_output_loss: 1.0457 - class_output_accuracy: 0.5815 - reg_output_mean_squared_error: 1.0457 - val_loss: 2.2212 - val_class_output_loss: 1.1838 - val_reg_output_loss: 1.0373 - val_class_output_accuracy: 0.3926 - val_reg_output_mean_squared_error: 1.0373 - 195ms/epoch - 20ms/step\n",
      "Epoch 85/100\n",
      "10/10 - 0s - loss: 2.1080 - class_output_loss: 0.9422 - reg_output_loss: 1.1658 - class_output_accuracy: 0.5591 - reg_output_mean_squared_error: 1.1658 - val_loss: 2.2360 - val_class_output_loss: 1.1891 - val_reg_output_loss: 1.0470 - val_class_output_accuracy: 0.3852 - val_reg_output_mean_squared_error: 1.0470 - 156ms/epoch - 16ms/step\n",
      "Epoch 86/100\n",
      "10/10 - 0s - loss: 1.9900 - class_output_loss: 0.9882 - reg_output_loss: 1.0019 - class_output_accuracy: 0.5655 - reg_output_mean_squared_error: 1.0019 - val_loss: 2.2530 - val_class_output_loss: 1.1545 - val_reg_output_loss: 1.0985 - val_class_output_accuracy: 0.3852 - val_reg_output_mean_squared_error: 1.0985 - 207ms/epoch - 21ms/step\n",
      "Epoch 87/100\n",
      "10/10 - 0s - loss: 1.9174 - class_output_loss: 0.9239 - reg_output_loss: 0.9935 - class_output_accuracy: 0.5751 - reg_output_mean_squared_error: 0.9935 - val_loss: 2.2700 - val_class_output_loss: 1.1677 - val_reg_output_loss: 1.1023 - val_class_output_accuracy: 0.3778 - val_reg_output_mean_squared_error: 1.1023 - 209ms/epoch - 21ms/step\n",
      "Epoch 88/100\n",
      "10/10 - 0s - loss: 2.0271 - class_output_loss: 0.9520 - reg_output_loss: 1.0751 - class_output_accuracy: 0.5687 - reg_output_mean_squared_error: 1.0751 - val_loss: 2.2103 - val_class_output_loss: 1.1698 - val_reg_output_loss: 1.0405 - val_class_output_accuracy: 0.4000 - val_reg_output_mean_squared_error: 1.0405 - 181ms/epoch - 18ms/step\n",
      "Epoch 89/100\n",
      "10/10 - 0s - loss: 2.0948 - class_output_loss: 0.9626 - reg_output_loss: 1.1322 - class_output_accuracy: 0.5591 - reg_output_mean_squared_error: 1.1322 - val_loss: 2.3275 - val_class_output_loss: 1.2086 - val_reg_output_loss: 1.1189 - val_class_output_accuracy: 0.4074 - val_reg_output_mean_squared_error: 1.1189 - 159ms/epoch - 16ms/step\n",
      "Epoch 90/100\n",
      "10/10 - 0s - loss: 2.0343 - class_output_loss: 0.9305 - reg_output_loss: 1.1038 - class_output_accuracy: 0.5687 - reg_output_mean_squared_error: 1.1038 - val_loss: 2.3011 - val_class_output_loss: 1.1601 - val_reg_output_loss: 1.1410 - val_class_output_accuracy: 0.4222 - val_reg_output_mean_squared_error: 1.1410 - 196ms/epoch - 20ms/step\n",
      "Epoch 91/100\n",
      "10/10 - 0s - loss: 1.8979 - class_output_loss: 0.9295 - reg_output_loss: 0.9684 - class_output_accuracy: 0.5751 - reg_output_mean_squared_error: 0.9684 - val_loss: 2.2716 - val_class_output_loss: 1.1977 - val_reg_output_loss: 1.0738 - val_class_output_accuracy: 0.3778 - val_reg_output_mean_squared_error: 1.0738 - 176ms/epoch - 18ms/step\n",
      "Epoch 92/100\n",
      "10/10 - 0s - loss: 1.9189 - class_output_loss: 0.9469 - reg_output_loss: 0.9720 - class_output_accuracy: 0.5240 - reg_output_mean_squared_error: 0.9720 - val_loss: 2.1929 - val_class_output_loss: 1.2004 - val_reg_output_loss: 0.9925 - val_class_output_accuracy: 0.3926 - val_reg_output_mean_squared_error: 0.9925 - 189ms/epoch - 19ms/step\n",
      "Epoch 93/100\n",
      "10/10 - 0s - loss: 2.0210 - class_output_loss: 0.9350 - reg_output_loss: 1.0860 - class_output_accuracy: 0.5431 - reg_output_mean_squared_error: 1.0860 - val_loss: 2.3253 - val_class_output_loss: 1.2531 - val_reg_output_loss: 1.0722 - val_class_output_accuracy: 0.3704 - val_reg_output_mean_squared_error: 1.0722 - 189ms/epoch - 19ms/step\n",
      "Epoch 94/100\n",
      "10/10 - 0s - loss: 1.8245 - class_output_loss: 0.8931 - reg_output_loss: 0.9314 - class_output_accuracy: 0.5815 - reg_output_mean_squared_error: 0.9314 - val_loss: 2.2415 - val_class_output_loss: 1.1836 - val_reg_output_loss: 1.0578 - val_class_output_accuracy: 0.4074 - val_reg_output_mean_squared_error: 1.0578 - 202ms/epoch - 20ms/step\n",
      "Epoch 95/100\n",
      "10/10 - 0s - loss: 1.8450 - class_output_loss: 0.9159 - reg_output_loss: 0.9291 - class_output_accuracy: 0.5623 - reg_output_mean_squared_error: 0.9291 - val_loss: 2.1659 - val_class_output_loss: 1.2003 - val_reg_output_loss: 0.9655 - val_class_output_accuracy: 0.3852 - val_reg_output_mean_squared_error: 0.9655 - 183ms/epoch - 18ms/step\n",
      "Epoch 96/100\n",
      "10/10 - 0s - loss: 1.8500 - class_output_loss: 0.9298 - reg_output_loss: 0.9202 - class_output_accuracy: 0.5751 - reg_output_mean_squared_error: 0.9202 - val_loss: 2.2287 - val_class_output_loss: 1.2134 - val_reg_output_loss: 1.0153 - val_class_output_accuracy: 0.4000 - val_reg_output_mean_squared_error: 1.0153 - 139ms/epoch - 14ms/step\n",
      "Epoch 97/100\n",
      "10/10 - 0s - loss: 1.9199 - class_output_loss: 0.9101 - reg_output_loss: 1.0098 - class_output_accuracy: 0.5655 - reg_output_mean_squared_error: 1.0098 - val_loss: 2.2019 - val_class_output_loss: 1.1512 - val_reg_output_loss: 1.0506 - val_class_output_accuracy: 0.4222 - val_reg_output_mean_squared_error: 1.0506 - 165ms/epoch - 16ms/step\n",
      "Epoch 98/100\n",
      "10/10 - 0s - loss: 1.8529 - class_output_loss: 0.9133 - reg_output_loss: 0.9395 - class_output_accuracy: 0.5719 - reg_output_mean_squared_error: 0.9395 - val_loss: 2.1925 - val_class_output_loss: 1.2014 - val_reg_output_loss: 0.9912 - val_class_output_accuracy: 0.3926 - val_reg_output_mean_squared_error: 0.9912 - 175ms/epoch - 17ms/step\n",
      "Epoch 99/100\n",
      "10/10 - 0s - loss: 1.8226 - class_output_loss: 0.8942 - reg_output_loss: 0.9284 - class_output_accuracy: 0.6038 - reg_output_mean_squared_error: 0.9284 - val_loss: 2.2270 - val_class_output_loss: 1.1811 - val_reg_output_loss: 1.0459 - val_class_output_accuracy: 0.4000 - val_reg_output_mean_squared_error: 1.0459 - 188ms/epoch - 19ms/step\n",
      "Epoch 100/100\n",
      "10/10 - 0s - loss: 1.9649 - class_output_loss: 0.9696 - reg_output_loss: 0.9952 - class_output_accuracy: 0.5719 - reg_output_mean_squared_error: 0.9952 - val_loss: 2.1720 - val_class_output_loss: 1.1819 - val_reg_output_loss: 0.9901 - val_class_output_accuracy: 0.4148 - val_reg_output_mean_squared_error: 0.9901 - 276ms/epoch - 28ms/step\n"
     ]
    }
   ],
   "source": [
    "history = model.fit(X_train, [Y_class_train, Y_reg_train],\n",
    "                    validation_split=0.3,\n",
    "                    epochs=100,\n",
    "                    batch_size=32,\n",
    "                    verbose=2)"
   ]
  },
  {
   "cell_type": "code",
   "execution_count": 12,
   "metadata": {},
   "outputs": [
    {
     "name": "stdout",
     "output_type": "stream",
     "text": [
      "4/4 [==============================] - 0s 3ms/step - loss: 2.8211 - class_output_loss: 1.2753 - reg_output_loss: 1.5459 - class_output_accuracy: 0.4464 - reg_output_mean_squared_error: 1.5459\n"
     ]
    },
    {
     "data": {
      "text/plain": [
       "[2.8211307525634766,\n",
       " 1.2752711772918701,\n",
       " 1.545859694480896,\n",
       " 0.4464285671710968,\n",
       " 1.545859694480896]"
      ]
     },
     "execution_count": 12,
     "metadata": {},
     "output_type": "execute_result"
    }
   ],
   "source": [
    "model.evaluate(X_test, [Y_class_test, Y_reg_test])"
   ]
  },
  {
   "cell_type": "code",
   "execution_count": 13,
   "metadata": {},
   "outputs": [
    {
     "data": {
      "image/png": "[encoded data removed]",
      "text/plain": [
       "<Figure size 640x480 with 1 Axes>"
      ]
     },
     "metadata": {},
     "output_type": "display_data"
    }
   ],
   "source": [
    "#  draw the landscape of the loss function\n",
    "import matplotlib.pyplot as plt\n",
    "plt.plot(history.history['loss'])\n",
    "plt.plot(history.history['val_loss'])\n",
    "\n",
    "\n",
    "plt.title('Model Loss')\n",
    "plt.ylabel('Loss')\n",
    "plt.xlabel('Epoch')\n",
    "plt.legend(['Train', 'Validation'], loc='upper left')\n",
    "plt.show()"
   ]
  },
  {
   "cell_type": "code",
   "execution_count": 14,
   "metadata": {},
   "outputs": [
    {
     "data": {
      "image/png": "[encoded data removed]",
      "text/plain": [
       "<Figure size 640x480 with 1 Axes>"
      ]
     },
     "metadata": {},
     "output_type": "display_data"
    }
   ],
   "source": [
    "# beautify the plot\n",
    "plt.plot(history.history['loss'])\n",
    "plt.plot(history.history['val_loss'])\n",
    "plt.title('Model Loss')\n",
    "plt.ylabel('Loss')\n",
    "plt.xlabel('Epoch')\n",
    "plt.legend(['Train', 'Validation'], loc='upper left')\n",
    "plt.yscale('log')\n",
    "plt.show()\n"
   ]
  },
  {
   "cell_type": "code",
   "execution_count": 14,
   "metadata": {},
   "outputs": [
    {
     "data": {
      "text/html": [
       "<pre style=\"white-space:pre;overflow-x:auto;line-height:normal;font-family:Menlo,'DejaVu Sans Mono',consolas,'Courier New',monospace\"><span style=\"font-weight: bold\">Model: \"functional_1\"</span>\n",
       "</pre>\n"
      ],
      "text/plain": [
       "\u001b[1mModel: \"functional_1\"\u001b[0m\n"
      ]
     },
     "metadata": {},
     "output_type": "display_data"
    },
    {
     "data": {
      "text/html": [
       "<pre style=\"white-space:pre;overflow-x:auto;line-height:normal;font-family:Menlo,'DejaVu Sans Mono',consolas,'Courier New',monospace\">┏━━━━━━━━━━━━━━━━━━━━━┳━━━━━━━━━━━━━━━━━━━┳━━━━━━━━━┳━━━━━━━━━━━━━━━━━━━━━━┓\n",
       "┃<span style=\"font-weight: bold\"> Layer (type)        </span>┃<span style=\"font-weight: bold\"> Output Shape      </span>┃<span style=\"font-weight: bold\"> Param # </span>┃<span style=\"font-weight: bold\"> Connected to         </span>┃\n",
       "┡━━━━━━━━━━━━━━━━━━━━━╇━━━━━━━━━━━━━━━━━━━╇━━━━━━━━━╇━━━━━━━━━━━━━━━━━━━━━━┩\n",
       "│ input_layer         │ (<span style=\"color: #00d7ff; text-decoration-color: #00d7ff\">None</span>, <span style=\"color: #00af00; text-decoration-color: #00af00\">3</span>)         │       <span style=\"color: #00af00; text-decoration-color: #00af00\">0</span> │ -                    │\n",
       "│ (<span style=\"color: #0087ff; text-decoration-color: #0087ff\">InputLayer</span>)        │                   │         │                      │\n",
       "├─────────────────────┼───────────────────┼─────────┼──────────────────────┤\n",
       "│ dense (<span style=\"color: #0087ff; text-decoration-color: #0087ff\">Dense</span>)       │ (<span style=\"color: #00d7ff; text-decoration-color: #00d7ff\">None</span>, <span style=\"color: #00af00; text-decoration-color: #00af00\">1024</span>)      │   <span style=\"color: #00af00; text-decoration-color: #00af00\">4,096</span> │ input_layer[<span style=\"color: #00af00; text-decoration-color: #00af00\">0</span>][<span style=\"color: #00af00; text-decoration-color: #00af00\">0</span>]    │\n",
       "├─────────────────────┼───────────────────┼─────────┼──────────────────────┤\n",
       "│ dropout (<span style=\"color: #0087ff; text-decoration-color: #0087ff\">Dropout</span>)   │ (<span style=\"color: #00d7ff; text-decoration-color: #00d7ff\">None</span>, <span style=\"color: #00af00; text-decoration-color: #00af00\">1024</span>)      │       <span style=\"color: #00af00; text-decoration-color: #00af00\">0</span> │ dense[<span style=\"color: #00af00; text-decoration-color: #00af00\">0</span>][<span style=\"color: #00af00; text-decoration-color: #00af00\">0</span>]          │\n",
       "├─────────────────────┼───────────────────┼─────────┼──────────────────────┤\n",
       "│ dense_1 (<span style=\"color: #0087ff; text-decoration-color: #0087ff\">Dense</span>)     │ (<span style=\"color: #00d7ff; text-decoration-color: #00d7ff\">None</span>, <span style=\"color: #00af00; text-decoration-color: #00af00\">512</span>)       │ <span style=\"color: #00af00; text-decoration-color: #00af00\">524,800</span> │ dropout[<span style=\"color: #00af00; text-decoration-color: #00af00\">0</span>][<span style=\"color: #00af00; text-decoration-color: #00af00\">0</span>]        │\n",
       "├─────────────────────┼───────────────────┼─────────┼──────────────────────┤\n",
       "│ batch_normalization │ (<span style=\"color: #00d7ff; text-decoration-color: #00d7ff\">None</span>, <span style=\"color: #00af00; text-decoration-color: #00af00\">512</span>)       │   <span style=\"color: #00af00; text-decoration-color: #00af00\">2,048</span> │ dense_1[<span style=\"color: #00af00; text-decoration-color: #00af00\">0</span>][<span style=\"color: #00af00; text-decoration-color: #00af00\">0</span>]        │\n",
       "│ (<span style=\"color: #0087ff; text-decoration-color: #0087ff\">BatchNormalizatio…</span> │                   │         │                      │\n",
       "├─────────────────────┼───────────────────┼─────────┼──────────────────────┤\n",
       "│ dense_2 (<span style=\"color: #0087ff; text-decoration-color: #0087ff\">Dense</span>)     │ (<span style=\"color: #00d7ff; text-decoration-color: #00d7ff\">None</span>, <span style=\"color: #00af00; text-decoration-color: #00af00\">286</span>)       │ <span style=\"color: #00af00; text-decoration-color: #00af00\">146,718</span> │ batch_normalization… │\n",
       "├─────────────────────┼───────────────────┼─────────┼──────────────────────┤\n",
       "│ dropout_1 (<span style=\"color: #0087ff; text-decoration-color: #0087ff\">Dropout</span>) │ (<span style=\"color: #00d7ff; text-decoration-color: #00d7ff\">None</span>, <span style=\"color: #00af00; text-decoration-color: #00af00\">286</span>)       │       <span style=\"color: #00af00; text-decoration-color: #00af00\">0</span> │ dense_2[<span style=\"color: #00af00; text-decoration-color: #00af00\">0</span>][<span style=\"color: #00af00; text-decoration-color: #00af00\">0</span>]        │\n",
       "├─────────────────────┼───────────────────┼─────────┼──────────────────────┤\n",
       "│ class_output        │ (<span style=\"color: #00d7ff; text-decoration-color: #00d7ff\">None</span>, <span style=\"color: #00af00; text-decoration-color: #00af00\">8</span>)         │   <span style=\"color: #00af00; text-decoration-color: #00af00\">2,296</span> │ dropout_1[<span style=\"color: #00af00; text-decoration-color: #00af00\">0</span>][<span style=\"color: #00af00; text-decoration-color: #00af00\">0</span>]      │\n",
       "│ (<span style=\"color: #0087ff; text-decoration-color: #0087ff\">Dense</span>)             │                   │         │                      │\n",
       "├─────────────────────┼───────────────────┼─────────┼──────────────────────┤\n",
       "│ reg_output (<span style=\"color: #0087ff; text-decoration-color: #0087ff\">Dense</span>)  │ (<span style=\"color: #00d7ff; text-decoration-color: #00d7ff\">None</span>, <span style=\"color: #00af00; text-decoration-color: #00af00\">1</span>)         │     <span style=\"color: #00af00; text-decoration-color: #00af00\">287</span> │ dropout_1[<span style=\"color: #00af00; text-decoration-color: #00af00\">0</span>][<span style=\"color: #00af00; text-decoration-color: #00af00\">0</span>]      │\n",
       "└─────────────────────┴───────────────────┴─────────┴──────────────────────┘\n",
       "</pre>\n"
      ],
      "text/plain": [
       "┏━━━━━━━━━━━━━━━━━━━━━┳━━━━━━━━━━━━━━━━━━━┳━━━━━━━━━┳━━━━━━━━━━━━━━━━━━━━━━┓\n",
       "┃\u001b[1m \u001b[0m\u001b[1mLayer (type)       \u001b[0m\u001b[1m \u001b[0m┃\u001b[1m \u001b[0m\u001b[1mOutput Shape     \u001b[0m\u001b[1m \u001b[0m┃\u001b[1m \u001b[0m\u001b[1mParam #\u001b[0m\u001b[1m \u001b[0m┃\u001b[1m \u001b[0m\u001b[1mConnected to        \u001b[0m\u001b[1m \u001b[0m┃\n",
       "┡━━━━━━━━━━━━━━━━━━━━━╇━━━━━━━━━━━━━━━━━━━╇━━━━━━━━━╇━━━━━━━━━━━━━━━━━━━━━━┩\n",
       "│ input_layer         │ (\u001b[38;5;45mNone\u001b[0m, \u001b[38;5;34m3\u001b[0m)         │       \u001b[38;5;34m0\u001b[0m │ -                    │\n",
       "│ (\u001b[38;5;33mInputLayer\u001b[0m)        │                   │         │                      │\n",
       "├─────────────────────┼───────────────────┼─────────┼──────────────────────┤\n",
       "│ dense (\u001b[38;5;33mDense\u001b[0m)       │ (\u001b[38;5;45mNone\u001b[0m, \u001b[38;5;34m1024\u001b[0m)      │   \u001b[38;5;34m4,096\u001b[0m │ input_layer[\u001b[38;5;34m0\u001b[0m][\u001b[38;5;34m0\u001b[0m]    │\n",
       "├─────────────────────┼───────────────────┼─────────┼──────────────────────┤\n",
       "│ dropout (\u001b[38;5;33mDropout\u001b[0m)   │ (\u001b[38;5;45mNone\u001b[0m, \u001b[38;5;34m1024\u001b[0m)      │       \u001b[38;5;34m0\u001b[0m │ dense[\u001b[38;5;34m0\u001b[0m][\u001b[38;5;34m0\u001b[0m]          │\n",
       "├─────────────────────┼───────────────────┼─────────┼──────────────────────┤\n",
       "│ dense_1 (\u001b[38;5;33mDense\u001b[0m)     │ (\u001b[38;5;45mNone\u001b[0m, \u001b[38;5;34m512\u001b[0m)       │ \u001b[38;5;34m524,800\u001b[0m │ dropout[\u001b[38;5;34m0\u001b[0m][\u001b[38;5;34m0\u001b[0m]        │\n",
       "├─────────────────────┼───────────────────┼─────────┼──────────────────────┤\n",
       "│ batch_normalization │ (\u001b[38;5;45mNone\u001b[0m, \u001b[38;5;34m512\u001b[0m)       │   \u001b[38;5;34m2,048\u001b[0m │ dense_1[\u001b[38;5;34m0\u001b[0m][\u001b[38;5;34m0\u001b[0m]        │\n",
       "│ (\u001b[38;5;33mBatchNormalizatio…\u001b[0m │                   │         │                      │\n",
       "├─────────────────────┼───────────────────┼─────────┼──────────────────────┤\n",
       "│ dense_2 (\u001b[38;5;33mDense\u001b[0m)     │ (\u001b[38;5;45mNone\u001b[0m, \u001b[38;5;34m286\u001b[0m)       │ \u001b[38;5;34m146,718\u001b[0m │ batch_normalization… │\n",
       "├─────────────────────┼───────────────────┼─────────┼──────────────────────┤\n",
       "│ dropout_1 (\u001b[38;5;33mDropout\u001b[0m) │ (\u001b[38;5;45mNone\u001b[0m, \u001b[38;5;34m286\u001b[0m)       │       \u001b[38;5;34m0\u001b[0m │ dense_2[\u001b[38;5;34m0\u001b[0m][\u001b[38;5;34m0\u001b[0m]        │\n",
       "├─────────────────────┼───────────────────┼─────────┼──────────────────────┤\n",
       "│ class_output        │ (\u001b[38;5;45mNone\u001b[0m, \u001b[38;5;34m8\u001b[0m)         │   \u001b[38;5;34m2,296\u001b[0m │ dropout_1[\u001b[38;5;34m0\u001b[0m][\u001b[38;5;34m0\u001b[0m]      │\n",
       "│ (\u001b[38;5;33mDense\u001b[0m)             │                   │         │                      │\n",
       "├─────────────────────┼───────────────────┼─────────┼──────────────────────┤\n",
       "│ reg_output (\u001b[38;5;33mDense\u001b[0m)  │ (\u001b[38;5;45mNone\u001b[0m, \u001b[38;5;34m1\u001b[0m)         │     \u001b[38;5;34m287\u001b[0m │ dropout_1[\u001b[38;5;34m0\u001b[0m][\u001b[38;5;34m0\u001b[0m]      │\n",
       "└─────────────────────┴───────────────────┴─────────┴──────────────────────┘\n"
      ]
     },
     "metadata": {},
     "output_type": "display_data"
    },
    {
     "data": {
      "text/html": [
       "<pre style=\"white-space:pre;overflow-x:auto;line-height:normal;font-family:Menlo,'DejaVu Sans Mono',consolas,'Courier New',monospace\"><span style=\"font-weight: bold\"> Total params: </span><span style=\"color: #00af00; text-decoration-color: #00af00\">2,038,689</span> (7.78 MB)\n",
       "</pre>\n"
      ],
      "text/plain": [
       "\u001b[1m Total params: \u001b[0m\u001b[38;5;34m2,038,689\u001b[0m (7.78 MB)\n"
      ]
     },
     "metadata": {},
     "output_type": "display_data"
    },
    {
     "data": {
      "text/html": [
       "<pre style=\"white-space:pre;overflow-x:auto;line-height:normal;font-family:Menlo,'DejaVu Sans Mono',consolas,'Courier New',monospace\"><span style=\"font-weight: bold\"> Trainable params: </span><span style=\"color: #00af00; text-decoration-color: #00af00\">679,221</span> (2.59 MB)\n",
       "</pre>\n"
      ],
      "text/plain": [
       "\u001b[1m Trainable params: \u001b[0m\u001b[38;5;34m679,221\u001b[0m (2.59 MB)\n"
      ]
     },
     "metadata": {},
     "output_type": "display_data"
    },
    {
     "data": {
      "text/html": [
       "<pre style=\"white-space:pre;overflow-x:auto;line-height:normal;font-family:Menlo,'DejaVu Sans Mono',consolas,'Courier New',monospace\"><span style=\"font-weight: bold\"> Non-trainable params: </span><span style=\"color: #00af00; text-decoration-color: #00af00\">1,024</span> (4.00 KB)\n",
       "</pre>\n"
      ],
      "text/plain": [
       "\u001b[1m Non-trainable params: \u001b[0m\u001b[38;5;34m1,024\u001b[0m (4.00 KB)\n"
      ]
     },
     "metadata": {},
     "output_type": "display_data"
    },
    {
     "data": {
      "text/html": [
       "<pre style=\"white-space:pre;overflow-x:auto;line-height:normal;font-family:Menlo,'DejaVu Sans Mono',consolas,'Courier New',monospace\"><span style=\"font-weight: bold\"> Optimizer params: </span><span style=\"color: #00af00; text-decoration-color: #00af00\">1,358,444</span> (5.18 MB)\n",
       "</pre>\n"
      ],
      "text/plain": [
       "\u001b[1m Optimizer params: \u001b[0m\u001b[38;5;34m1,358,444\u001b[0m (5.18 MB)\n"
      ]
     },
     "metadata": {},
     "output_type": "display_data"
    }
   ],
   "source": [
    "model.summary()"
   ]
  },
  {
   "cell_type": "code",
   "execution_count": 15,
   "metadata": {},
   "outputs": [
    {
     "name": "stdout",
     "output_type": "stream",
     "text": [
      "[ 0.00902681 -0.04783698 -0.01826162] [1. 0. 0. 0. 0. 0. 0. 0.] 1.0\n"
     ]
    }
   ],
   "source": [
    "# pridection\n",
    "i= 0\n",
    "print(X[i], Y_class[i], Y_reg[i])\n"
   ]
  },
  {
   "cell_type": "code",
   "execution_count": 16,
   "metadata": {},
   "outputs": [
    {
     "data": {
      "text/plain": [
       "array([[ 0.02150743,  0.00640325, -0.04351044]])"
      ]
     },
     "execution_count": 16,
     "metadata": {},
     "output_type": "execute_result"
    }
   ],
   "source": [
    "\n",
    "x_new = X[1]\n",
    "\n",
    "x_new = x_new.reshape(1, -1)\n",
    "\n",
    "x_new"
   ]
  },
  {
   "cell_type": "code",
   "execution_count": 17,
   "metadata": {},
   "outputs": [
    {
     "name": "stdout",
     "output_type": "stream",
     "text": [
      "\u001b[1m1/1\u001b[0m \u001b[32m━━━━━━━━━━━━━━━━━━━━\u001b[0m\u001b[37m\u001b[0m \u001b[1m0s\u001b[0m 49ms/step\n",
      "[0.10316101 0.05606828 0.02612244 0.13573425 0.03552317 0.21072368\n",
      " 0.08906259 0.34360453]\n",
      "[4.129134]\n"
     ]
    }
   ],
   "source": [
    "y_class_p, y_reg_p = model.predict(x_new)\n",
    "\n",
    "print(y_class_p[0])\n",
    "print(y_reg_p[0])"
   ]
  },
  {
   "cell_type": "markdown",
   "metadata": {},
   "source": []
  },
  {
   "cell_type": "markdown",
   "metadata": {},
   "source": []
  },
  {
   "cell_type": "markdown",
   "metadata": {},
   "source": [
    "<!-- z -->"
   ]
  }
 ],
 "metadata": {
  "kernelspec": {
   "display_name": "qiskit",
   "language": "python",
   "name": "python3"
  },
  "language_info": {
   "codemirror_mode": {
    "name": "ipython",
    "version": 3
   },
   "file_extension": ".py",
   "mimetype": "text/x-python",
   "name": "python",
   "nbconvert_exporter": "python",
   "pygments_lexer": "ipython3",
   "version": "3.11.8"
  }
 },
 "nbformat": 4,
 "nbformat_minor": 2
}
